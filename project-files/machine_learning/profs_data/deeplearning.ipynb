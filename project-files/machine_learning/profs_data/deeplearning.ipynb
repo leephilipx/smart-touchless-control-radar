{
 "cells": [
  {
   "cell_type": "code",
   "execution_count": 1,
   "source": [
    "import  tensorflow as tf\r\n",
    "import tensorflow.keras as k\r\n",
    "import numpy as np\r\n",
    "import pandas as pd\r\n",
    "import sklearn as sk\r\n",
    "import matplotlib.pyplot as plt \r\n",
    "import pickle\r\n",
    "import os "
   ],
   "outputs": [],
   "metadata": {}
  },
  {
   "cell_type": "code",
   "execution_count": 11,
   "source": [
    "from read_images import read_prof_images\r\n",
    "\r\n",
    "X, Y, class_labels = read_prof_images()\r\n",
    "print(X.shape, Y.shape, class_labels)"
   ],
   "outputs": [
    {
     "output_type": "stream",
     "name": "stdout",
     "text": [
      "(300, 256, 256, 3) (300,) ['gc', 'go', 'gt']\n"
     ]
    }
   ],
   "metadata": {}
  },
  {
   "cell_type": "code",
   "execution_count": 12,
   "source": [
    "from read_images import read_our_radar_data\r\n",
    "\r\n",
    "X, y, class_labels = read_our_radar_data()\r\n",
    "print(X.shape, y.shape, class_labels)"
   ],
   "outputs": [
    {
     "output_type": "stream",
     "name": "stdout",
     "text": [
      "(80, 64, 621) (80,) ['pinching', 'push', 'rolling_forward', 'swing']\n"
     ]
    }
   ],
   "metadata": {}
  },
  {
   "cell_type": "code",
   "execution_count": 27,
   "source": [
    "X = np.abs(X)\r\n",
    "X = np.expand_dims(X, axis=-1)\r\n",
    "X.shape"
   ],
   "outputs": [
    {
     "output_type": "execute_result",
     "data": {
      "text/plain": [
       "(80, 64, 621, 1)"
      ]
     },
     "metadata": {},
     "execution_count": 27
    }
   ],
   "metadata": {}
  },
  {
   "cell_type": "code",
   "execution_count": 28,
   "source": [
    " from sklearn.model_selection import train_test_split"
   ],
   "outputs": [],
   "metadata": {}
  },
  {
   "cell_type": "code",
   "execution_count": 29,
   "source": [
    "X_train,X_test,y_train,y_test=train_test_split(X, y, test_size=0.33, random_state=42)\r\n",
    "y_train = tf.one_hot(y_train, y.shape[0])\r\n",
    "y_test = tf.one_hot(y_test, y.shape[0])"
   ],
   "outputs": [],
   "metadata": {}
  },
  {
   "cell_type": "code",
   "execution_count": 30,
   "source": [
    "model=k.Sequential()\r\n",
    "model.add(tf.keras.Input(shape=X.shape[1:]))\r\n",
    "model.add(k.layers.Conv2D(32,3,3,padding='valid',\r\n",
    "    dilation_rate=(1, 1),\r\n",
    "    activation=\"relu\"))\r\n",
    "model.add(k.layers.Flatten())\r\n",
    "model.add(k.layers.Dense(64,activation=\"relu\"))\r\n",
    "model.add(k.layers.Dense(64,activation=\"relu\"))\r\n",
    "model.add(k.layers.Dense(64,activation=\"relu\"))\r\n",
    "model.add(k.layers.Dense(y.shape[0],activation=\"softmax\"))\r\n",
    "model.compile(loss='categorical_crossentropy', optimizer='adam', metrics=['accuracy'])"
   ],
   "outputs": [],
   "metadata": {}
  },
  {
   "cell_type": "code",
   "execution_count": 31,
   "source": [
    "model.summary()"
   ],
   "outputs": [
    {
     "output_type": "stream",
     "name": "stdout",
     "text": [
      "Model: \"sequential_5\"\n",
      "_________________________________________________________________\n",
      "Layer (type)                 Output Shape              Param #   \n",
      "=================================================================\n",
      "conv2d_5 (Conv2D)            (None, 21, 207, 32)       320       \n",
      "_________________________________________________________________\n",
      "flatten_3 (Flatten)          (None, 139104)            0         \n",
      "_________________________________________________________________\n",
      "dense_12 (Dense)             (None, 64)                8902720   \n",
      "_________________________________________________________________\n",
      "dense_13 (Dense)             (None, 64)                4160      \n",
      "_________________________________________________________________\n",
      "dense_14 (Dense)             (None, 64)                4160      \n",
      "_________________________________________________________________\n",
      "dense_15 (Dense)             (None, 80)                5200      \n",
      "=================================================================\n",
      "Total params: 8,916,560\n",
      "Trainable params: 8,916,560\n",
      "Non-trainable params: 0\n",
      "_________________________________________________________________\n"
     ]
    }
   ],
   "metadata": {}
  },
  {
   "cell_type": "code",
   "execution_count": 32,
   "source": [
    "history=model.fit(X_train,y_train,epochs=50,batch_size=8)"
   ],
   "outputs": [
    {
     "output_type": "stream",
     "name": "stdout",
     "text": [
      "Epoch 1/50\n",
      "7/7 [==============================] - 1s 55ms/step - loss: 102.4129 - accuracy: 0.1132\n",
      "Epoch 2/50\n",
      "7/7 [==============================] - 0s 53ms/step - loss: 24.4764 - accuracy: 0.4906\n",
      "Epoch 3/50\n",
      "7/7 [==============================] - 0s 55ms/step - loss: 9.3824 - accuracy: 0.6604\n",
      "Epoch 4/50\n",
      "7/7 [==============================] - 0s 48ms/step - loss: 8.1488 - accuracy: 0.5849\n",
      "Epoch 5/50\n",
      "7/7 [==============================] - 0s 51ms/step - loss: 1.3229 - accuracy: 0.9245\n",
      "Epoch 6/50\n",
      "7/7 [==============================] - 0s 51ms/step - loss: 0.9115 - accuracy: 0.9245\n",
      "Epoch 7/50\n",
      "7/7 [==============================] - 0s 57ms/step - loss: 0.0304 - accuracy: 0.9811\n",
      "Epoch 8/50\n",
      "7/7 [==============================] - 0s 52ms/step - loss: 7.7512e-04 - accuracy: 1.0000\n",
      "Epoch 9/50\n",
      "7/7 [==============================] - 0s 53ms/step - loss: 0.0187 - accuracy: 1.0000\n",
      "Epoch 10/50\n",
      "7/7 [==============================] - 0s 52ms/step - loss: 0.0023 - accuracy: 1.0000\n",
      "Epoch 11/50\n",
      "7/7 [==============================] - 0s 47ms/step - loss: 2.6711e-04 - accuracy: 1.0000\n",
      "Epoch 12/50\n",
      "7/7 [==============================] - 0s 52ms/step - loss: 1.0303e-04 - accuracy: 1.0000\n",
      "Epoch 13/50\n",
      "7/7 [==============================] - 0s 52ms/step - loss: 4.2057e-05 - accuracy: 1.0000\n",
      "Epoch 14/50\n",
      "7/7 [==============================] - 0s 55ms/step - loss: 2.2829e-05 - accuracy: 1.0000\n",
      "Epoch 15/50\n",
      "7/7 [==============================] - 0s 55ms/step - loss: 1.9323e-05 - accuracy: 1.0000\n",
      "Epoch 16/50\n",
      "7/7 [==============================] - 0s 53ms/step - loss: 1.6135e-05 - accuracy: 1.0000\n",
      "Epoch 17/50\n",
      "7/7 [==============================] - 0s 48ms/step - loss: 1.4115e-05 - accuracy: 1.0000\n",
      "Epoch 18/50\n",
      "7/7 [==============================] - 0s 55ms/step - loss: 1.3090e-05 - accuracy: 1.0000\n",
      "Epoch 19/50\n",
      "7/7 [==============================] - 0s 55ms/step - loss: 1.2404e-05 - accuracy: 1.0000\n",
      "Epoch 20/50\n",
      "7/7 [==============================] - 0s 51ms/step - loss: 1.1954e-05 - accuracy: 1.0000\n",
      "Epoch 21/50\n",
      "7/7 [==============================] - 0s 50ms/step - loss: 1.1398e-05 - accuracy: 1.0000\n",
      "Epoch 22/50\n",
      "7/7 [==============================] - 0s 47ms/step - loss: 1.1014e-05 - accuracy: 1.0000\n",
      "Epoch 23/50\n",
      "7/7 [==============================] - 0s 56ms/step - loss: 1.0645e-05 - accuracy: 1.0000\n",
      "Epoch 24/50\n",
      "7/7 [==============================] - 0s 59ms/step - loss: 1.0251e-05 - accuracy: 1.0000\n",
      "Epoch 25/50\n",
      "7/7 [==============================] - 0s 57ms/step - loss: 9.9614e-06 - accuracy: 1.0000\n",
      "Epoch 26/50\n",
      "7/7 [==============================] - 0s 52ms/step - loss: 9.6105e-06 - accuracy: 1.0000\n",
      "Epoch 27/50\n",
      "7/7 [==============================] - 0s 57ms/step - loss: 9.3181e-06 - accuracy: 1.0000\n",
      "Epoch 28/50\n",
      "7/7 [==============================] - 0s 52ms/step - loss: 9.0640e-06 - accuracy: 1.0000\n",
      "Epoch 29/50\n",
      "7/7 [==============================] - 0s 52ms/step - loss: 8.7604e-06 - accuracy: 1.0000\n",
      "Epoch 30/50\n",
      "7/7 [==============================] - 0s 47ms/step - loss: 8.5602e-06 - accuracy: 1.0000\n",
      "Epoch 31/50\n",
      "7/7 [==============================] - 0s 51ms/step - loss: 8.2858e-06 - accuracy: 1.0000\n",
      "Epoch 32/50\n",
      "7/7 [==============================] - 0s 48ms/step - loss: 8.0429e-06 - accuracy: 1.0000\n",
      "Epoch 33/50\n",
      "7/7 [==============================] - 0s 52ms/step - loss: 7.8068e-06 - accuracy: 1.0000\n",
      "Epoch 34/50\n",
      "7/7 [==============================] - 0s 62ms/step - loss: 7.6066e-06 - accuracy: 1.0000\n",
      "Epoch 35/50\n",
      "7/7 [==============================] - 0s 54ms/step - loss: 7.3772e-06 - accuracy: 1.0000\n",
      "Epoch 36/50\n",
      "7/7 [==============================] - 0s 51ms/step - loss: 7.2108e-06 - accuracy: 1.0000\n",
      "Epoch 37/50\n",
      "7/7 [==============================] - 0s 53ms/step - loss: 7.0331e-06 - accuracy: 1.0000\n",
      "Epoch 38/50\n",
      "7/7 [==============================] - 0s 57ms/step - loss: 6.8329e-06 - accuracy: 1.0000\n",
      "Epoch 39/50\n",
      "7/7 [==============================] - 0s 50ms/step - loss: 6.6755e-06 - accuracy: 1.0000\n",
      "Epoch 40/50\n",
      "7/7 [==============================] - 0s 47ms/step - loss: 6.4618e-06 - accuracy: 1.0000\n",
      "Epoch 41/50\n",
      "7/7 [==============================] - 0s 54ms/step - loss: 6.3201e-06 - accuracy: 1.0000\n",
      "Epoch 42/50\n",
      "7/7 [==============================] - 0s 50ms/step - loss: 6.1492e-06 - accuracy: 1.0000\n",
      "Epoch 43/50\n",
      "7/7 [==============================] - 0s 54ms/step - loss: 6.0120e-06 - accuracy: 1.0000\n",
      "Epoch 44/50\n",
      "7/7 [==============================] - 0s 50ms/step - loss: 5.8523e-06 - accuracy: 1.0000\n",
      "Epoch 45/50\n",
      "7/7 [==============================] - 0s 52ms/step - loss: 5.7151e-06 - accuracy: 1.0000\n",
      "Epoch 46/50\n",
      "7/7 [==============================] - 0s 54ms/step - loss: 5.5622e-06 - accuracy: 1.0000\n",
      "Epoch 47/50\n",
      "7/7 [==============================] - 0s 58ms/step - loss: 5.4970e-06 - accuracy: 1.0000\n",
      "Epoch 48/50\n",
      "7/7 [==============================] - 0s 48ms/step - loss: 5.3125e-06 - accuracy: 1.0000\n",
      "Epoch 49/50\n",
      "7/7 [==============================] - 0s 52ms/step - loss: 5.2158e-06 - accuracy: 1.0000\n",
      "Epoch 50/50\n",
      "7/7 [==============================] - 0s 53ms/step - loss: 5.0831e-06 - accuracy: 1.0000\n"
     ]
    }
   ],
   "metadata": {}
  },
  {
   "cell_type": "code",
   "execution_count": 33,
   "source": [
    "y_preds = model.predict(X_test)\r\n",
    "y_preds"
   ],
   "outputs": [
    {
     "output_type": "execute_result",
     "data": {
      "text/plain": [
       "array([[7.93966574e-33, 1.00000000e+00, 4.31360660e-27, ...,\n",
       "        0.00000000e+00, 0.00000000e+00, 0.00000000e+00],\n",
       "       [1.00000000e+00, 0.00000000e+00, 0.00000000e+00, ...,\n",
       "        0.00000000e+00, 0.00000000e+00, 0.00000000e+00],\n",
       "       [0.00000000e+00, 1.00000000e+00, 3.42858507e-14, ...,\n",
       "        0.00000000e+00, 0.00000000e+00, 0.00000000e+00],\n",
       "       ...,\n",
       "       [3.83866051e-37, 1.00000000e+00, 1.33657514e-17, ...,\n",
       "        0.00000000e+00, 0.00000000e+00, 0.00000000e+00],\n",
       "       [2.48860251e-05, 2.06270779e-04, 2.58302808e-01, ...,\n",
       "        2.79643420e-33, 0.00000000e+00, 0.00000000e+00],\n",
       "       [3.47380364e-07, 4.04548955e-05, 9.77949023e-01, ...,\n",
       "        3.02990548e-37, 0.00000000e+00, 0.00000000e+00]], dtype=float32)"
      ]
     },
     "metadata": {},
     "execution_count": 33
    }
   ],
   "metadata": {}
  },
  {
   "cell_type": "code",
   "execution_count": 37,
   "source": [
    "np.argmax(y_preds, axis=1)"
   ],
   "outputs": [
    {
     "output_type": "execute_result",
     "data": {
      "text/plain": [
       "array([1, 0, 1, 1, 0, 1, 0, 1, 0, 0, 1, 1, 3, 1, 3, 2, 1, 3, 2, 3, 0, 2,\n",
       "       0, 2, 1, 3, 2], dtype=int64)"
      ]
     },
     "metadata": {},
     "execution_count": 37
    }
   ],
   "metadata": {}
  },
  {
   "cell_type": "code",
   "execution_count": 35,
   "source": [
    "np.sum(y_preds - y_test)"
   ],
   "outputs": [
    {
     "output_type": "execute_result",
     "data": {
      "text/plain": [
       "4.3581757e-08"
      ]
     },
     "metadata": {},
     "execution_count": 35
    }
   ],
   "metadata": {}
  },
  {
   "cell_type": "code",
   "execution_count": 39,
   "source": [
    "np.sum(np.where(np.argmax(y_preds, axis=1)==np.argmax(y_test, axis=1), 0, 1))"
   ],
   "outputs": [
    {
     "output_type": "execute_result",
     "data": {
      "text/plain": [
       "5"
      ]
     },
     "metadata": {},
     "execution_count": 39
    }
   ],
   "metadata": {}
  },
  {
   "cell_type": "code",
   "execution_count": 40,
   "source": [
    "np.argmax(y_preds, axis=1)"
   ],
   "outputs": [
    {
     "output_type": "execute_result",
     "data": {
      "text/plain": [
       "array([1, 0, 1, 1, 0, 1, 0, 1, 0, 0, 1, 1, 3, 1, 3, 2, 1, 3, 2, 3, 0, 2,\n",
       "       0, 2, 1, 3, 2], dtype=int64)"
      ]
     },
     "metadata": {},
     "execution_count": 40
    }
   ],
   "metadata": {}
  },
  {
   "cell_type": "code",
   "execution_count": 41,
   "source": [
    "np.argmax(y_test, axis=1)"
   ],
   "outputs": [
    {
     "output_type": "execute_result",
     "data": {
      "text/plain": [
       "array([1, 0, 1, 1, 0, 1, 0, 3, 0, 0, 2, 1, 3, 1, 3, 2, 3, 3, 2, 2, 0, 3,\n",
       "       0, 2, 1, 3, 2], dtype=int64)"
      ]
     },
     "metadata": {},
     "execution_count": 41
    }
   ],
   "metadata": {}
  },
  {
   "cell_type": "code",
   "execution_count": 11,
   "source": [
    "X_test.shape"
   ],
   "outputs": [
    {
     "output_type": "execute_result",
     "data": {
      "text/plain": [
       "(99, 256, 256, 3)"
      ]
     },
     "metadata": {},
     "execution_count": 11
    }
   ],
   "metadata": {}
  },
  {
   "cell_type": "code",
   "execution_count": 12,
   "source": [
    "X_test.shape"
   ],
   "outputs": [
    {
     "output_type": "execute_result",
     "data": {
      "text/plain": [
       "(99, 256, 256, 3)"
      ]
     },
     "metadata": {},
     "execution_count": 12
    }
   ],
   "metadata": {}
  },
  {
   "cell_type": "code",
   "execution_count": null,
   "source": [],
   "outputs": [],
   "metadata": {}
  }
 ],
 "metadata": {
  "kernelspec": {
   "name": "python3",
   "display_name": "Python 3.8.0 64-bit ('dip': conda)"
  },
  "language_info": {
   "codemirror_mode": {
    "name": "ipython",
    "version": 3
   },
   "file_extension": ".py",
   "mimetype": "text/x-python",
   "name": "python",
   "nbconvert_exporter": "python",
   "pygments_lexer": "ipython3",
   "version": "3.8.0"
  },
  "interpreter": {
   "hash": "6515277496f2109cf88b38404d3e198f35895569fbd97e7870afbb63822bfc00"
  }
 },
 "nbformat": 4,
 "nbformat_minor": 4
}