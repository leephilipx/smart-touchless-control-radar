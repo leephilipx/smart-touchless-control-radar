{
 "cells": [
  {
   "cell_type": "code",
   "execution_count": 1,
   "source": [
    "from read_images import read_prof_images\r\n",
    "\r\n",
    "X, Y, class_labels = read_prof_images()\r\n",
    "print(X.shape, Y.shape, class_labels)"
   ],
   "outputs": [
    {
     "output_type": "stream",
     "name": "stdout",
     "text": [
      "(300, 256, 256, 3) (300,) ['gc', 'go', 'gt']\n"
     ]
    }
   ],
   "metadata": {}
  },
  {
   "cell_type": "code",
   "execution_count": null,
   "source": [],
   "outputs": [],
   "metadata": {}
  }
 ],
 "metadata": {
  "orig_nbformat": 4,
  "language_info": {
   "name": "python",
   "version": "3.7.11",
   "mimetype": "text/x-python",
   "codemirror_mode": {
    "name": "ipython",
    "version": 3
   },
   "pygments_lexer": "ipython3",
   "nbconvert_exporter": "python",
   "file_extension": ".py"
  },
  "kernelspec": {
   "name": "python3",
   "display_name": "Python 3.7.11 64-bit ('dip': conda)"
  },
  "interpreter": {
   "hash": "77f800dc47d41417a1961634b7fb9adfe452e5374704596578d1dfa8b0af0022"
  }
 },
 "nbformat": 4,
 "nbformat_minor": 2
}