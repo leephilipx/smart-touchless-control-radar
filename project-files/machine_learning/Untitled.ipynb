{
 "cells": [
  {
   "cell_type": "code",
   "execution_count": 1,
   "source": [
    "import  tensorflow as tf\r\n",
    "import tensorflow.keras as k\r\n",
    "import numpy as np\r\n",
    "import pandas as pd\r\n",
    "import sklearn as sk\r\n",
    "import matplotlib.pyplot as plt \r\n",
    "import pickle\r\n",
    "import os "
   ],
   "outputs": [],
   "metadata": {}
  },
  {
   "cell_type": "code",
   "execution_count": 5,
   "source": [
    "path=os.path.join(os.path.dirname(os.path.realpath('machine_learning.py')), 'data')\r\n",
    "car=[]\r\n",
    "x=[]\r\n",
    "y=[]\r\n",
    "file=os.listdir(path+'/Cars/')\r\n",
    "print(file)\r\n",
    "for i in file:\r\n",
    "    f=os.listdir(path+'/Cars/'+i)\r\n",
    "    for j in f:\r\n",
    "        p=pd.read_csv(path+\"/Cars/\"+i+\"/\"+j,header=None)\r\n",
    "        p=p.to_numpy()\r\n",
    "        car.append(p)\r\n",
    "        x.append(p)\r\n",
    "        d=[1,0,0]\r\n",
    "        y.append(d)\r\n",
    "print(\"done car\")\r\n",
    "drone=[]\r\n",
    "file=os.listdir(path+'/Drones/')\r\n",
    "for i in file:\r\n",
    "    f=os.listdir(path+'/Drones/'+i)\r\n",
    "    for j in f:\r\n",
    "        p=pd.read_csv(path+\"/Drones/\"+i+\"/\"+j,header=None)\r\n",
    "        p=p.to_numpy()\r\n",
    "        drone.append(p)\r\n",
    "        x.append(p)\r\n",
    "        d=[0,1,0]\r\n",
    "        y.append(d)\r\n",
    "print(\"done drone\")        \r\n",
    "people=[]\r\n",
    "file=os.listdir(path+'/People/')\r\n",
    "for i in file:\r\n",
    "    f=os.listdir(path+'/People/'+i)\r\n",
    "    for j in f:\r\n",
    "        p=pd.read_csv(path+\"/People/\"+i+\"/\"+j,header=None)\r\n",
    "        p=p.to_numpy()\r\n",
    "        people.append(p)\r\n",
    "        x.append(p)\r\n",
    "        d=[0,0,1]\r\n",
    "        y.append(d)\r\n",
    "print(\"done people\")"
   ],
   "outputs": [
    {
     "output_type": "stream",
     "name": "stdout",
     "text": [
      "['13-13', '13-13p', '13-19', '13-23', '13-23p', '13-29', '13-38', '13-44', '13-49', '13-49p', '13-54', '15-37', '15-37p', '15-42', '15-42p', '15-48', '15-48p', '15-55', '15-55a', '15-55m', '15-55p', '16-01', '16-01p', '16-07', '16-07p', '17-09', '17-09p']\n",
      "done car\n",
      "done drone\n",
      "done people\n"
     ]
    }
   ],
   "metadata": {}
  },
  {
   "cell_type": "code",
   "execution_count": 6,
   "source": [
    "r=np.save('input',x)"
   ],
   "outputs": [],
   "metadata": {}
  },
  {
   "cell_type": "code",
   "execution_count": 7,
   "source": [
    "s=np.save('ground tooth',y)"
   ],
   "outputs": [],
   "metadata": {}
  },
  {
   "cell_type": "code",
   "execution_count": 8,
   "source": [
    "x=np.absolute(x)"
   ],
   "outputs": [],
   "metadata": {}
  },
  {
   "cell_type": "code",
   "execution_count": 10,
   "source": [
    "np.shape(x)"
   ],
   "outputs": [
    {
     "output_type": "execute_result",
     "data": {
      "text/plain": [
       "(17485, 11, 61)"
      ]
     },
     "metadata": {},
     "execution_count": 10
    }
   ],
   "metadata": {}
  },
  {
   "cell_type": "code",
   "execution_count": 11,
   "source": [
    "np.shape(y)"
   ],
   "outputs": [
    {
     "output_type": "execute_result",
     "data": {
      "text/plain": [
       "(17485, 3)"
      ]
     },
     "metadata": {},
     "execution_count": 11
    }
   ],
   "metadata": {}
  },
  {
   "cell_type": "code",
   "execution_count": 12,
   "source": [
    " from sklearn.model_selection import train_test_split"
   ],
   "outputs": [],
   "metadata": {}
  },
  {
   "cell_type": "code",
   "execution_count": 13,
   "source": [
    "x_train,x_test,y_train,y_test=train_test_split(x, y, test_size=0.33, random_state=42)"
   ],
   "outputs": [],
   "metadata": {}
  },
  {
   "cell_type": "code",
   "execution_count": 14,
   "source": [
    "x_train=np.asarray(x_train)\r\n",
    "y_train=np.asarray(y_train)\r\n",
    "x_test=np.asarray(x_test)\r\n",
    "y_test=np.asarray(y_test)\r\n",
    "x_train=np.reshape(x_train,[-1,11,61,1])\r\n",
    "x_test=np.reshape(x_test,[-1,11,61,1])"
   ],
   "outputs": [],
   "metadata": {}
  },
  {
   "cell_type": "code",
   "execution_count": 15,
   "source": [
    "model=k.Sequential()\r\n",
    "model.add(tf.keras.Input(shape=(11,61,1)))\r\n",
    "model.add(k.layers.Conv2D(32,3,3,padding='valid',\r\n",
    "    dilation_rate=(1, 1),\r\n",
    "    activation=\"relu\"))\r\n",
    "model.add(k.layers.Flatten())\r\n",
    "model.add(k.layers.Dense(64,activation=\"relu\"))\r\n",
    "model.add(k.layers.Dense(64,activation=\"relu\"))\r\n",
    "model.add(k.layers.Dense(64,activation=\"relu\"))\r\n",
    "model.add(k.layers.Dense(3,activation=\"softmax\"))\r\n",
    "model.compile(loss='categorical_crossentropy', optimizer='adam', metrics=['accuracy'])"
   ],
   "outputs": [],
   "metadata": {}
  },
  {
   "cell_type": "code",
   "execution_count": 16,
   "source": [
    "model.summary()"
   ],
   "outputs": [
    {
     "output_type": "stream",
     "name": "stdout",
     "text": [
      "Model: \"sequential\"\n",
      "_________________________________________________________________\n",
      "Layer (type)                 Output Shape              Param #   \n",
      "=================================================================\n",
      "conv2d (Conv2D)              (None, 3, 20, 32)         320       \n",
      "_________________________________________________________________\n",
      "flatten (Flatten)            (None, 1920)              0         \n",
      "_________________________________________________________________\n",
      "dense (Dense)                (None, 64)                122944    \n",
      "_________________________________________________________________\n",
      "dense_1 (Dense)              (None, 64)                4160      \n",
      "_________________________________________________________________\n",
      "dense_2 (Dense)              (None, 64)                4160      \n",
      "_________________________________________________________________\n",
      "dense_3 (Dense)              (None, 3)                 195       \n",
      "=================================================================\n",
      "Total params: 131,779\n",
      "Trainable params: 131,779\n",
      "Non-trainable params: 0\n",
      "_________________________________________________________________\n"
     ]
    }
   ],
   "metadata": {}
  },
  {
   "cell_type": "code",
   "execution_count": null,
   "source": [],
   "outputs": [],
   "metadata": {}
  }
 ],
 "metadata": {
  "kernelspec": {
   "name": "python3",
   "display_name": "Python 3.8.0 64-bit ('dip': conda)"
  },
  "language_info": {
   "codemirror_mode": {
    "name": "ipython",
    "version": 3
   },
   "file_extension": ".py",
   "mimetype": "text/x-python",
   "name": "python",
   "nbconvert_exporter": "python",
   "pygments_lexer": "ipython3",
   "version": "3.8.0"
  },
  "interpreter": {
   "hash": "6515277496f2109cf88b38404d3e198f35895569fbd97e7870afbb63822bfc00"
  }
 },
 "nbformat": 4,
 "nbformat_minor": 4
}