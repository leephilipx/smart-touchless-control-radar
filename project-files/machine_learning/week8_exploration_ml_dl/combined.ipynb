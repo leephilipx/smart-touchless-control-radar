{
 "cells": [
  {
   "cell_type": "code",
   "execution_count": 1,
   "source": [
    "import matplotlib.pyplot as plt\r\n",
    "import joblib\r\n",
    "import numpy as np\r\n",
    "import os\r\n",
    "import tensorflow as tf\r\n",
    "import tensorflow.keras as k\r\n",
    "from tensorflow.keras.metrics import AUC\r\n",
    "from read_images import read_prof_images, read_our_radar_data\r\n",
    "from sklearn.model_selection import train_test_split\r\n",
    "from read_images import read_prof_images\r\n",
    "from sklearn.model_selection import train_test_split\r\n",
    "from sklearn.preprocessing import StandardScaler\r\n",
    "from sklearn.neural_network import MLPClassifier\r\n",
    "from sklearn.neighbors import KNeighborsClassifier\r\n",
    "from sklearn.svm import SVC\r\n",
    "from sklearn.gaussian_process import GaussianProcessClassifier\r\n",
    "from sklearn.gaussian_process.kernels import RBF\r\n",
    "from sklearn.tree import DecisionTreeClassifier\r\n",
    "from sklearn.ensemble import RandomForestClassifier, AdaBoostClassifier\r\n",
    "from sklearn.naive_bayes import GaussianNB\r\n",
    "from sklearn.discriminant_analysis import QuadraticDiscriminantAnalysis\r\n",
    "from sklearn.linear_model import LogisticRegression\r\n",
    "from sklearn.discriminant_analysis import LinearDiscriminantAnalysis\r\n",
    "from sklearn.multiclass import OneVsOneClassifier\r\n",
    "from sklearn import metrics\r\n",
    "from sklearn.metrics import roc_auc_score\r\n",
    "\r\n",
    "root_dir = os.path.dirname(os.getcwd())"
   ],
   "outputs": [],
   "metadata": {}
  },
  {
   "cell_type": "code",
   "execution_count": 3,
   "source": [
    "use_prof_samples = False\r\n",
    "use_ml = False\r\n",
    "loop_models = False"
   ],
   "outputs": [],
   "metadata": {}
  },
  {
   "cell_type": "code",
   "execution_count": 4,
   "source": [
    "classifiers = [\r\n",
    "KNeighborsClassifier(3),\r\n",
    "SVC(kernel=\"linear\", C=0.025, probability=True),\r\n",
    "GaussianProcessClassifier(1.0*RBF(1.0)),\r\n",
    "DecisionTreeClassifier(max_depth=5),\r\n",
    "RandomForestClassifier(max_depth=5, n_estimators=10, max_features=1),\r\n",
    "MLPClassifier(alpha=1, max_iter=1000),\r\n",
    "AdaBoostClassifier(),\r\n",
    "GaussianNB(),\r\n",
    "QuadraticDiscriminantAnalysis()]\r\n",
    "# OneVsOneClassifier(SVC(gamma=0.7, C=1))\r\n",
    "classifier_names = [\"Nearest Neighbors\", \"Linear SVM\", \"Gaussian Process\",\r\n",
    "    \"Decision Tree\", \"Random Forest\", \"Neural Net\", \"AdaBoost\",\r\n",
    "    \"Naive Bayes\", \"QDA\"]#\"RBF SVM\"\r\n",
    "    \r\n",
    "def choose_dataset():\r\n",
    "    if use_prof_samples:\r\n",
    "        print(\"Dataset chosen: Prof's images\")\r\n",
    "        X, y, class_labels = read_prof_images()\r\n",
    "    else:\r\n",
    "        print(\"Dataset chosen: Radar images\")\r\n",
    "        X, y, class_labels = read_our_radar_data()\r\n",
    "        X = np.abs(X)\r\n",
    "        X = np.expand_dims(X, axis=-1)\r\n",
    "    if use_ml:  \r\n",
    "        X = X.reshape(X.shape[0], -1)\r\n",
    "    return X,y, class_labels\r\n",
    "\r\n",
    "X, y, class_labels = choose_dataset()\r\n",
    "ttsData = train_test_split(X, y, test_size=.3, random_state=12)"
   ],
   "outputs": [
    {
     "output_type": "stream",
     "name": "stdout",
     "text": [
      "Dataset chosen: Radar images\n"
     ]
    }
   ],
   "metadata": {}
  },
  {
   "cell_type": "markdown",
   "source": [
    "## Machine Learning"
   ],
   "metadata": {}
  },
  {
   "cell_type": "code",
   "execution_count": null,
   "source": [
    "X_train, X_test, y_train, y_test = ttsData\r\n",
    "classifier = classifiers[0]\r\n",
    "classifier_name = classifier_names[0]\r\n",
    "# Learn the digits on the train subset\r\n",
    "classifier.fit(X_train, y_train)\r\n",
    "\r\n",
    "joblib.dump(classifier, f'model_files/{classifier_name}.pkl')    # Save the model as a pickle in a file\r\n",
    "model = joblib.load(f'model_files/{classifier_name}.pkl')        # Load the model from the file\r\n",
    "\r\n",
    "print(f\"{classifier} Model\")\r\n",
    "# Check the Goodness of Fit (on Train Data)\r\n",
    "print(\"Goodness of Fit of Model \\tTrain Dataset\")\r\n",
    "train_acc = model.score(X_train, y_train)\r\n",
    "print(\"Classification Accuracy \\t:\", train_acc, end='\\n\\n')\r\n",
    "\r\n",
    "# Check the Goodness of Fit (on Test Data)\r\n",
    "print(\"Goodness of Fit of Model \\tTest Dataset\")\r\n",
    "test_acc = model.score(X_test, y_test)\r\n",
    "print(\"Classification Accuracy \\t:\", test_acc, end='\\n\\n')\r\n",
    "\r\n",
    "# disp = metrics.plot_confusion_matrix(model, X_test, y_test)\r\n",
    "# disp.figure_.suptitle(\"Confusion Matrix\")\r\n",
    "# print(f\"Confusion matrix:\\n{disp.confusion_matrix}\")\r\n",
    "\r\n",
    "# Use the loaded model to make predictions\r\n",
    "# print(\"Predcited values: \", model.predict(X_test))\r\n",
    "# print(\"Actual values:    \", y_test)\r\n",
    "try:\r\n",
    "    y_prob = model.predict_proba(X_test)\r\n",
    "except:\r\n",
    "    y_prob = model.decision_function(X_test)\r\n",
    "auc = roc_auc_score(y_test, y_prob, multi_class='ovr')\r\n",
    "print(\"AUC Score: \", auc)"
   ],
   "outputs": [],
   "metadata": {}
  },
  {
   "cell_type": "markdown",
   "source": [
    "## Deep Learning"
   ],
   "metadata": {}
  },
  {
   "cell_type": "code",
   "execution_count": 26,
   "source": [
    "X_train, X_test, y_train, y_test = ttsData\r\n",
    "y_train = tf.one_hot(y_train, len(np.unique(y)))\r\n",
    "y_test = tf.one_hot(y_test, len(np.unique(y)))\r\n",
    "##### MODEL ######\r\n",
    "model=k.Sequential()\r\n",
    "model.add(tf.keras.Input(shape=X.shape[1:]))\r\n",
    "model.add(k.layers.Conv2D(32,3,3,padding='valid',\r\n",
    "    dilation_rate=(1, 1),\r\n",
    "    activation=\"relu\"))\r\n",
    "model.add(k.layers.Flatten())\r\n",
    "model.add(k.layers.Dense(64,activation=\"relu\"))\r\n",
    "model.add(k.layers.Dense(64,activation=\"relu\"))\r\n",
    "model.add(k.layers.Dense(64,activation=\"relu\"))\r\n",
    "model.add(k.layers.Dense(len(np.unique(y)),activation=\"softmax\"))\r\n",
    "model.compile(loss='categorical_crossentropy', optimizer='adam', metrics=['accuracy', AUC()])\r\n",
    "##### MODEL ######\r\n",
    "model.summary()\r\n",
    "history = model.fit(X_train,y_train,epochs=1,batch_size=8)\r\n",
    "# model.save('models/deep_learning_model')\r\n",
    "# model = load_model('models/deep_learning_model')\r\n",
    "train_acc = model.evaluate(X_train, y_train, batch_size=128)\r\n",
    "test_acc = model.evaluate(X_test, y_test, batch_size=128)\r\n",
    "# print(history.history)\r\n",
    "# auc = np.max(history.history['auc'])\r\n",
    "# print(\"AUC Score: \", auc)"
   ],
   "outputs": [
    {
     "output_type": "stream",
     "name": "stdout",
     "text": [
      "Model: \"sequential_6\"\n",
      "_________________________________________________________________\n",
      "Layer (type)                 Output Shape              Param #   \n",
      "=================================================================\n",
      "conv2d_6 (Conv2D)            (None, 21, 207, 32)       320       \n",
      "_________________________________________________________________\n",
      "flatten_6 (Flatten)          (None, 139104)            0         \n",
      "_________________________________________________________________\n",
      "dense_24 (Dense)             (None, 64)                8902720   \n",
      "_________________________________________________________________\n",
      "dense_25 (Dense)             (None, 64)                4160      \n",
      "_________________________________________________________________\n",
      "dense_26 (Dense)             (None, 64)                4160      \n",
      "_________________________________________________________________\n",
      "dense_27 (Dense)             (None, 4)                 260       \n",
      "=================================================================\n",
      "Total params: 8,911,620\n",
      "Trainable params: 8,911,620\n",
      "Non-trainable params: 0\n",
      "_________________________________________________________________\n",
      "7/7 [==============================] - 1s 45ms/step - loss: 43.0526 - accuracy: 0.3036 - auc_6: 0.5285\n",
      "WARNING:tensorflow:6 out of the last 11 calls to <function Model.make_test_function.<locals>.test_function at 0x000001230093D4C0> triggered tf.function retracing. Tracing is expensive and the excessive number of tracings could be due to (1) creating @tf.function repeatedly in a loop, (2) passing tensors with different shapes, (3) passing Python objects instead of tensors. For (1), please define your @tf.function outside of the loop. For (2), @tf.function has experimental_relax_shapes=True option that relaxes argument shapes that can avoid unnecessary retracing. For (3), please refer to https://www.tensorflow.org/guide/function#controlling_retracing and https://www.tensorflow.org/api_docs/python/tf/function for  more details.\n",
      "1/1 [==============================] - 0s 287ms/step - loss: 7.2537 - accuracy: 0.5714 - auc_6: 0.7495\n",
      "1/1 [==============================] - 0s 42ms/step - loss: 11.1901 - accuracy: 0.4583 - auc_6: 0.6372\n"
     ]
    }
   ],
   "metadata": {}
  },
  {
   "cell_type": "code",
   "execution_count": 62,
   "source": [
    "y_preds = model.predict(X_test)\r\n",
    "y_labels = []\r\n",
    "for i in range(len(y_preds)):\r\n",
    "    y_labels.append(np.argmax(y_preds[i]))\r\n",
    "y_labels"
   ],
   "outputs": [
    {
     "output_type": "execute_result",
     "data": {
      "text/plain": [
       "[1, 0, 0, 0, 0, 1, 0, 0, 1, 0, 1, 0, 0, 1, 1, 1, 0, 0, 0, 1, 1, 0, 1, 0]"
      ]
     },
     "metadata": {},
     "execution_count": 62
    }
   ],
   "metadata": {}
  },
  {
   "cell_type": "code",
   "execution_count": null,
   "source": [
    "def select_pipeline(ttsData, classifiers, classifier_names):\r\n",
    "    if use_ml:  \r\n",
    "        if loop_models:\r\n",
    "            train_acc_dict = {}\r\n",
    "            test_acc_dict = {}\r\n",
    "            auc_score_dict = {}\r\n",
    "            fig, ax = plt.subplots()\r\n",
    "            for cf, cf_name in zip(classifiers, classifier_names):\r\n",
    "                train_acc, test_acc, auc = machine_learning(cf, ttsData, cf_name)\r\n",
    "                train_acc_dict[cf_name] = train_acc\r\n",
    "                test_acc_dict[cf_name] = test_acc\r\n",
    "                auc_score_dict[cf_name] = auc\r\n",
    "            ax.plot(auc_score_dict.keys(), auc_score_dict.values())\r\n",
    "            print(auc_score_dict)\r\n",
    "            ax.set_title(\"Comparison of AUC Score of Classifier Models\")\r\n",
    "            ax.set_xlabel(\"Classifier Models\")\r\n",
    "            ax.set_ylabel(\"AUC Score\")\r\n",
    "            plt.show()\r\n",
    "        else:\r\n",
    "            train_acc, test_acc, auc = machine_learning(KNeighborsClassifier(3), ttsData, \"Nearest Neighbors\") #0.93 \r\n",
    "    else:\r\n",
    "        train_acc, test_acc, auc = deep_learning(ttsData)\r\n",
    "    return train_acc, test_acc, auc"
   ],
   "outputs": [],
   "metadata": {}
  }
 ],
 "metadata": {
  "orig_nbformat": 4,
  "language_info": {
   "name": "python",
   "version": "3.8.0",
   "mimetype": "text/x-python",
   "codemirror_mode": {
    "name": "ipython",
    "version": 3
   },
   "pygments_lexer": "ipython3",
   "nbconvert_exporter": "python",
   "file_extension": ".py"
  },
  "kernelspec": {
   "name": "python3",
   "display_name": "Python 3.8.0 64-bit ('dip': conda)"
  },
  "interpreter": {
   "hash": "203d1785ba7f076f223b5731fa52e3e1cbf9a319bdcf81f42a05adbb9ebcda5b"
  }
 },
 "nbformat": 4,
 "nbformat_minor": 2
}