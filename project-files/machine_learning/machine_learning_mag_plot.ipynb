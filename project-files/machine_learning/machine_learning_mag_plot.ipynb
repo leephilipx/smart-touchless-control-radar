{
 "cells": [
  {
   "cell_type": "code",
   "execution_count": 261,
   "metadata": {},
   "outputs": [],
   "source": [
    "# Code source: Gaël Varoquaux\n",
    "#              Andreas Müller\n",
    "# Modified for documentation by Jaques Grobler\n",
    "# License: BSD 3 clause\n",
    "\n",
    "import numpy as np\n",
    "import matplotlib.pyplot as plt\n",
    "import pandas as pd\n",
    "import seaborn as sns\n",
    "import os\n",
    "\n",
    "from matplotlib.colors import ListedColormap\n",
    "from sklearn.model_selection import train_test_split\n",
    "from sklearn.preprocessing import StandardScaler\n",
    "from sklearn.datasets import make_moons, make_circles, make_classification\n",
    "from sklearn.neural_network import MLPClassifier\n",
    "from sklearn.neighbors import KNeighborsClassifier\n",
    "from sklearn.svm import SVC\n",
    "from sklearn.gaussian_process import GaussianProcessClassifier\n",
    "from sklearn.gaussian_process.kernels import RBF\n",
    "from sklearn.tree import DecisionTreeClassifier\n",
    "from sklearn.ensemble import RandomForestClassifier, AdaBoostClassifier\n",
    "from sklearn.naive_bayes import GaussianNB\n",
    "from sklearn.discriminant_analysis import QuadraticDiscriminantAnalysis\n",
    "from sklearn.linear_model import LogisticRegression\n",
    "from sklearn.discriminant_analysis import LinearDiscriminantAnalysis\n",
    "from sklearn.multiclass import OneVsOneClassifier\n",
    "\n",
    "from sklearn import datasets, svm, metrics"
   ]
  },
  {
   "cell_type": "code",
   "execution_count": 262,
   "metadata": {},
   "outputs": [],
   "source": [
    "h = .02  # step size in the mesh\n",
    "\n",
    "names = [\"Nearest Neighbors\", \"Linear SVM\", \"RBF SVM\", \"Gaussian Process\",\n",
    "         \"Decision Tree\", \"Random Forest\", \"Neural Net\", \"AdaBoost\",\n",
    "         \"Naive Bayes\", \"QDA\"]\n",
    "\n",
    "classifiers = [\n",
    "    KNeighborsClassifier(3),\n",
    "    SVC(kernel=\"linear\", C=0.025),\n",
    "    OneVsOneClassifier(SVC(gamma=0.7, C=1)),\n",
    "    GaussianProcessClassifier(1.0 * RBF(1.0)),\n",
    "    DecisionTreeClassifier(max_depth=5),\n",
    "    RandomForestClassifier(max_depth=5, n_estimators=10, max_features=1),\n",
    "    MLPClassifier(alpha=1, max_iter=1000),\n",
    "    AdaBoostClassifier(),\n",
    "    GaussianNB(),\n",
    "    QuadraticDiscriminantAnalysis()]\n",
    "\n",
    "X, y = make_classification(n_features=2, n_redundant=0, n_informative=2,\n",
    "                           random_state=1, n_clusters_per_class=1)\n",
    "rng = np.random.RandomState(2)\n",
    "X += 2 * rng.uniform(size=X.shape)\n",
    "linearly_separable = (X, y)"
   ]
  },
  {
   "cell_type": "code",
   "execution_count": 263,
   "metadata": {},
   "outputs": [
    {
     "name": "stdout",
     "output_type": "stream",
     "text": [
      "Gesture 1 - Push\n",
      "Gesture 2 - Rolling Forward\n",
      "Gesture 3 - Pinching\n",
      "Gesture 4 - Swing\n",
      "(4, 10, 621, 64) (4, 10)\n",
      "\n",
      "Input features shape: (40, 39744)\n",
      "Labels shape: (40,)\n"
     ]
    }
   ],
   "source": [
    "import numpy as np\n",
    "import h5py, os\n",
    "\n",
    "root_dir = os.path.join(os.path.dirname(os.getcwd()), '2021_09_22_new_gestures')\n",
    "\n",
    "def parse_h5_folder(root_dir, dir_path):\n",
    "    dir_path = os.path.join(root_dir, dir_path)\n",
    "    h5_files = [path for path in os.listdir(dir_path) if path.endswith('.h5')]\n",
    "    radarDataOneGesture = []\n",
    "    for file_path in h5_files:\n",
    "        hf = h5py.File(os.path.join(dir_path, file_path), 'r')\n",
    "        radarDataOneGesture.append(np.squeeze(np.array(hf['/data'])).T)\n",
    "        hf.close()\n",
    "    return radarDataOneGesture\n",
    "\n",
    "all_dir = [sub_dir for sub_dir in os.listdir(root_dir) if os.path.isdir(os.path.join(root_dir, sub_dir))]\n",
    "\n",
    "radarDataAll = []\n",
    "labels = []\n",
    "label_words = ['push', 'rolling', 'pinching', 'swing']\n",
    "\n",
    "for label, dir_path in enumerate(all_dir):\n",
    "    print(dir_path)\n",
    "    radarDataAll.append(parse_h5_folder(root_dir, dir_path))\n",
    "    labels.append([label for _ in range(len(radarDataAll[0]))])\n",
    "\n",
    "radarDataAll = np.array(radarDataAll)\n",
    "labels = np.array(labels)\n",
    "\n",
    "Ngestures, Nsamples, NTS, Nframes= radarDataAll.shape\n",
    "print(radarDataAll.shape, labels.shape, end='\\n\\n')\n",
    "\n",
    "radarDataMagnitude = np.abs(radarDataAll.reshape(-1, Nframes*NTS))\n",
    "finalLabels = labels.reshape(-1)\n",
    "\n",
    "X = radarDataMagnitude\n",
    "y = finalLabels\n",
    "\n",
    "push = X[[0, 1, 2, 3, 4, 5, 6, 7, 8, 9], :]\n",
    "rolling = X[[10, 11, 12, 13, 14, 15, 16, 17, 18, 19], :]\n",
    "pinching = X[[20, 21, 22, 23, 24, 25, 26, 27, 28, 29], :]\n",
    "swing = X[[30, 31, 32, 33, 34, 35, 36, 37, 38, 39], :]\n",
    "\n",
    "print('Input features shape:', radarDataMagnitude.shape)\n",
    "print('Labels shape:', finalLabels.shape)"
   ]
  },
  {
   "cell_type": "markdown",
   "metadata": {},
   "source": [
    "## KNN model"
   ]
  },
  {
   "cell_type": "code",
   "execution_count": 264,
   "metadata": {},
   "outputs": [
    {
     "name": "stdout",
     "output_type": "stream",
     "text": [
      "Goodness of Fit of Model \tTrain Dataset\n",
      "Classification Accuracy \t: 0.8928571428571429\n",
      "\n",
      "Goodness of Fit of Model \tTest Dataset\n",
      "Classification Accuracy \t: 0.5\n",
      "\n",
      "Confusion matrix:\n",
      "[[0 0 1 0]\n",
      " [1 1 2 1]\n",
      " [0 0 3 0]\n",
      " [0 0 1 2]]\n"
     ]
    },
    {
     "data": {
      "image/png": "[encoded data removed]",
      "text/plain": [
       "<Figure size 432x288 with 2 Axes>"
      ]
     },
     "metadata": {
      "needs_background": "light"
     },
     "output_type": "display_data"
    },
    {
     "data": {
      "text/plain": [
       "array([2, 3, 2, 2, 0, 1, 2, 2, 3, 3, 2, 2])"
      ]
     },
     "execution_count": 264,
     "metadata": {},
     "output_type": "execute_result"
    }
   ],
   "source": [
    "X_train, X_test, y_train, y_test = train_test_split(X, y, test_size=.3, random_state=12)\n",
    "\n",
    "knn = classifiers[0]\n",
    "# Learn the digits on the train subset\n",
    "knn.fit(X_train, y_train)\n",
    " \n",
    "# Save the model as a pickle in a file\n",
    "joblib.dump(knn, 'knn.pkl')\n",
    " \n",
    "# Load the model from the file\n",
    "knn_from_joblib = joblib.load('knn.pkl')\n",
    "\n",
    "# Check the Goodness of Fit (on Train Data)\n",
    "print(\"Goodness of Fit of Model \\tTrain Dataset\")\n",
    "print(\"Classification Accuracy \\t:\", knn.score(X_train, y_train))\n",
    "print()\n",
    "\n",
    "# Check the Goodness of Fit (on Test Data)\n",
    "print(\"Goodness of Fit of Model \\tTest Dataset\")\n",
    "print(\"Classification Accuracy \\t:\", knn.score(X_test, y_test))\n",
    "print()\n",
    "\n",
    "disp = metrics.plot_confusion_matrix(knn, X_test, y_test)\n",
    "disp.figure_.suptitle(\"Confusion Matrix\")\n",
    "print(f\"Confusion matrix:\\n{disp.confusion_matrix}\")\n",
    "plt.show()\n",
    "\n",
    "# Use the loaded model to make predictions\n",
    "knn_from_joblib.predict(X_test)"
   ]
  },
  {
   "cell_type": "markdown",
   "metadata": {},
   "source": [
    "## linearSVM model"
   ]
  },
  {
   "cell_type": "code",
   "execution_count": 265,
   "metadata": {},
   "outputs": [
    {
     "name": "stdout",
     "output_type": "stream",
     "text": [
      "Goodness of Fit of Model \tTrain Dataset\n",
      "Classification Accuracy \t: 1.0\n",
      "\n",
      "Goodness of Fit of Model \tTest Dataset\n",
      "Classification Accuracy \t: 0.8333333333333334\n",
      "\n",
      "Confusion matrix:\n",
      "[[1 0 0 0]\n",
      " [0 3 1 1]\n",
      " [0 0 3 0]\n",
      " [0 0 0 3]]\n"
     ]
    },
    {
     "data": {
      "image/png": "[encoded data removed]",
      "text/plain": [
       "<Figure size 432x288 with 2 Axes>"
      ]
     },
     "metadata": {
      "needs_background": "light"
     },
     "output_type": "display_data"
    },
    {
     "data": {
      "text/plain": [
       "array([2, 3, 0, 2, 1, 1, 2, 1, 3, 3, 3, 2])"
      ]
     },
     "execution_count": 265,
     "metadata": {},
     "output_type": "execute_result"
    }
   ],
   "source": [
    "X_train, X_test, y_train, y_test = train_test_split(X, y, test_size=.3, random_state=12)\n",
    "\n",
    "linearSVM = classifiers[1]\n",
    "# Learn the digits on the train subset\n",
    "linearSVM.fit(X_train, y_train)\n",
    "\n",
    "# Save the model as a pickle in a file\n",
    "joblib.dump(linearSVM, 'linearSVM.pkl')\n",
    " \n",
    "# Load the model from the file\n",
    "linearSVM_from_joblib = joblib.load('linearSVM.pkl')\n",
    "\n",
    "# Check the Goodness of Fit (on Train Data)\n",
    "print(\"Goodness of Fit of Model \\tTrain Dataset\")\n",
    "print(\"Classification Accuracy \\t:\", linearSVM.score(X_train, y_train))\n",
    "print()\n",
    "\n",
    "# Check the Goodness of Fit (on Test Data)\n",
    "print(\"Goodness of Fit of Model \\tTest Dataset\")\n",
    "print(\"Classification Accuracy \\t:\", linearSVM.score(X_test, y_test))\n",
    "print()\n",
    "\n",
    "disp = metrics.plot_confusion_matrix(linearSVM, X_test, y_test)\n",
    "disp.figure_.suptitle(\"Confusion Matrix\")\n",
    "print(f\"Confusion matrix:\\n{disp.confusion_matrix}\")\n",
    "plt.show()\n",
    "\n",
    "# Use the loaded model to make predictions\n",
    "linearSVM_from_joblib.predict(X_test)"
   ]
  },
  {
   "cell_type": "markdown",
   "metadata": {},
   "source": [
    "## rbfSVM model\n",
    "\n",
    "### still got problem need to fix"
   ]
  },
  {
   "cell_type": "code",
   "execution_count": 266,
   "metadata": {},
   "outputs": [
    {
     "name": "stdout",
     "output_type": "stream",
     "text": [
      "Goodness of Fit of Model \tTrain Dataset\n",
      "Classification Accuracy \t: 1.0\n",
      "\n",
      "Goodness of Fit of Model \tTest Dataset\n",
      "Classification Accuracy \t: 0.08333333333333333\n",
      "\n",
      "Confusion matrix:\n",
      "[[1 0 0 0]\n",
      " [5 0 0 0]\n",
      " [3 0 0 0]\n",
      " [3 0 0 0]]\n"
     ]
    },
    {
     "data": {
      "image/png": "[encoded data removed]",
      "text/plain": [
       "<Figure size 432x288 with 2 Axes>"
      ]
     },
     "metadata": {
      "needs_background": "light"
     },
     "output_type": "display_data"
    },
    {
     "data": {
      "text/plain": [
       "array([0, 0, 0, 0, 0, 0, 0, 0, 0, 0, 0, 0])"
      ]
     },
     "execution_count": 266,
     "metadata": {},
     "output_type": "execute_result"
    }
   ],
   "source": [
    "X_train, X_test, y_train, y_test = train_test_split(X, y, test_size=.3, random_state=12)\n",
    "\n",
    "rbfSVM = classifiers[2]\n",
    "rbfSVM.decision_function_shape = \"ovo\"\n",
    "# Learn the digits on the train subset\n",
    "rbfSVM.fit(X_train, y_train)\n",
    "\n",
    "# Save the model as a pickle in a file\n",
    "joblib.dump(rbfSVM, 'rbfSVM.pkl')\n",
    " \n",
    "# Load the model from the file\n",
    "rbfSVM_from_joblib = joblib.load('rbfSVM.pkl')\n",
    "\n",
    "# Check the Goodness of Fit (on Train Data)\n",
    "print(\"Goodness of Fit of Model \\tTrain Dataset\")\n",
    "print(\"Classification Accuracy \\t:\", rbfSVM.score(X_train, y_train))\n",
    "print()\n",
    "\n",
    "# Check the Goodness of Fit (on Test Data)\n",
    "print(\"Goodness of Fit of Model \\tTest Dataset\")\n",
    "print(\"Classification Accuracy \\t:\", rbfSVM.score(X_test, y_test))\n",
    "print()\n",
    "\n",
    "disp = metrics.plot_confusion_matrix(rbfSVM, X_test, y_test)\n",
    "disp.figure_.suptitle(\"Confusion Matrix\")\n",
    "print(f\"Confusion matrix:\\n{disp.confusion_matrix}\")\n",
    "plt.show()\n",
    "\n",
    "# Use the loaded model to make predictions\n",
    "rbfSVM_from_joblib.predict(X_test)"
   ]
  },
  {
   "cell_type": "markdown",
   "metadata": {},
   "source": [
    "## Gaussian Process model\n",
    "\n",
    "### still got problem"
   ]
  },
  {
   "cell_type": "code",
   "execution_count": 267,
   "metadata": {},
   "outputs": [
    {
     "name": "stdout",
     "output_type": "stream",
     "text": [
      "Goodness of Fit of Model \tTrain Dataset\n",
      "Classification Accuracy \t: 1.0\n",
      "\n",
      "Goodness of Fit of Model \tTest Dataset\n",
      "Classification Accuracy \t: 0.25\n",
      "\n",
      "Confusion matrix:\n",
      "[[0 0 0 1]\n",
      " [0 0 0 5]\n",
      " [0 0 0 3]\n",
      " [0 0 0 3]]\n"
     ]
    },
    {
     "data": {
      "image/png": "[encoded data removed]",
      "text/plain": [
       "<Figure size 432x288 with 2 Axes>"
      ]
     },
     "metadata": {
      "needs_background": "light"
     },
     "output_type": "display_data"
    },
    {
     "data": {
      "text/plain": [
       "array([3, 3, 3, 3, 3, 3, 3, 3, 3, 3, 3, 3])"
      ]
     },
     "execution_count": 267,
     "metadata": {},
     "output_type": "execute_result"
    }
   ],
   "source": [
    "X_train, X_test, y_train, y_test = train_test_split(X, y, test_size=.3, random_state=12)\n",
    "\n",
    "GaussianProcess = classifiers[3]\n",
    "# Learn the digits on the train subset\n",
    "GaussianProcess.fit(X_train, y_train)\n",
    "\n",
    "# Save the model as a pickle in a file\n",
    "joblib.dump(GaussianProcess, 'GaussianProcess.pkl')\n",
    " \n",
    "# Load the model from the file\n",
    "GaussianProcess_from_joblib = joblib.load('GaussianProcess.pkl')\n",
    "\n",
    "# Check the Goodness of Fit (on Train Data)\n",
    "print(\"Goodness of Fit of Model \\tTrain Dataset\")\n",
    "print(\"Classification Accuracy \\t:\", GaussianProcess.score(X_train, y_train))\n",
    "print()\n",
    "\n",
    "# Check the Goodness of Fit (on Test Data)\n",
    "print(\"Goodness of Fit of Model \\tTest Dataset\")\n",
    "print(\"Classification Accuracy \\t:\", GaussianProcess.score(X_test, y_test))\n",
    "print()\n",
    "\n",
    "disp = metrics.plot_confusion_matrix(GaussianProcess, X_test, y_test)\n",
    "disp.figure_.suptitle(\"Confusion Matrix\")\n",
    "print(f\"Confusion matrix:\\n{disp.confusion_matrix}\")\n",
    "plt.show()\n",
    "\n",
    "# Use the loaded model to make predictions\n",
    "GaussianProcess_from_joblib.predict(X_test)"
   ]
  },
  {
   "cell_type": "markdown",
   "metadata": {},
   "source": [
    "## Decision Tree Model"
   ]
  },
  {
   "cell_type": "code",
   "execution_count": 268,
   "metadata": {},
   "outputs": [
    {
     "name": "stdout",
     "output_type": "stream",
     "text": [
      "Goodness of Fit of Model \tTrain Dataset\n",
      "Classification Accuracy \t: 1.0\n",
      "\n",
      "Goodness of Fit of Model \tTest Dataset\n",
      "Classification Accuracy \t: 0.5833333333333334\n",
      "\n",
      "Confusion matrix:\n",
      "[[1 0 0 0]\n",
      " [0 2 1 2]\n",
      " [0 1 2 0]\n",
      " [0 0 1 2]]\n"
     ]
    },
    {
     "data": {
      "image/png": "[encoded data removed]",
      "text/plain": [
       "<Figure size 432x288 with 2 Axes>"
      ]
     },
     "metadata": {
      "needs_background": "light"
     },
     "output_type": "display_data"
    },
    {
     "data": {
      "text/plain": [
       "array([2, 2, 0, 3, 2, 1, 1, 1, 3, 3, 3, 2])"
      ]
     },
     "execution_count": 268,
     "metadata": {},
     "output_type": "execute_result"
    }
   ],
   "source": [
    "X_train, X_test, y_train, y_test = train_test_split(X, y, test_size=.3, random_state=12)\n",
    "\n",
    "DecisionTree = classifiers[4]\n",
    "# Learn the digits on the train subset\n",
    "DecisionTree.fit(X_train, y_train)\n",
    "\n",
    "# Save the model as a pickle in a file\n",
    "joblib.dump(DecisionTree, 'DecisionTree.pkl')\n",
    " \n",
    "# Load the model from the file\n",
    "DecisionTree_from_joblib = joblib.load('DecisionTree.pkl')\n",
    "\n",
    "# Check the Goodness of Fit (on Train Data)\n",
    "print(\"Goodness of Fit of Model \\tTrain Dataset\")\n",
    "print(\"Classification Accuracy \\t:\", DecisionTree.score(X_train, y_train))\n",
    "print()\n",
    "\n",
    "# Check the Goodness of Fit (on Test Data)\n",
    "print(\"Goodness of Fit of Model \\tTest Dataset\")\n",
    "print(\"Classification Accuracy \\t:\", DecisionTree.score(X_test, y_test))\n",
    "print()\n",
    "\n",
    "disp = metrics.plot_confusion_matrix(DecisionTree, X_test, y_test)\n",
    "disp.figure_.suptitle(\"Confusion Matrix\")\n",
    "print(f\"Confusion matrix:\\n{disp.confusion_matrix}\")\n",
    "plt.show()\n",
    "\n",
    "# Use the loaded model to make predictions\n",
    "DecisionTree_from_joblib.predict(X_test)"
   ]
  },
  {
   "cell_type": "markdown",
   "metadata": {},
   "source": [
    "## Random Forest model"
   ]
  },
  {
   "cell_type": "code",
   "execution_count": 269,
   "metadata": {},
   "outputs": [
    {
     "name": "stdout",
     "output_type": "stream",
     "text": [
      "Goodness of Fit of Model \tTrain Dataset\n",
      "Classification Accuracy \t: 1.0\n",
      "\n",
      "Goodness of Fit of Model \tTest Dataset\n",
      "Classification Accuracy \t: 0.3333333333333333\n",
      "\n",
      "Confusion matrix:\n",
      "[[1 0 0 0]\n",
      " [2 1 1 1]\n",
      " [1 0 1 1]\n",
      " [1 0 1 1]]\n"
     ]
    },
    {
     "data": {
      "image/png": "[encoded data removed]",
      "text/plain": [
       "<Figure size 432x288 with 2 Axes>"
      ]
     },
     "metadata": {
      "needs_background": "light"
     },
     "output_type": "display_data"
    },
    {
     "data": {
      "text/plain": [
       "array([2, 2, 0, 0, 2, 1, 0, 0, 3, 3, 0, 3])"
      ]
     },
     "execution_count": 269,
     "metadata": {},
     "output_type": "execute_result"
    }
   ],
   "source": [
    "X_train, X_test, y_train, y_test = train_test_split(X, y, test_size=.3, random_state=12)\n",
    "\n",
    "RandomForest = classifiers[5]\n",
    "# Learn the digits on the train subset\n",
    "RandomForest.fit(X_train, y_train)\n",
    "\n",
    "# Save the model as a pickle in a file\n",
    "joblib.dump(RandomForest, 'RandomForest.pkl')\n",
    " \n",
    "# Load the model from the file\n",
    "RandomForest_from_joblib = joblib.load('RandomForest.pkl')\n",
    "\n",
    "# Check the Goodness of Fit (on Train Data)\n",
    "print(\"Goodness of Fit of Model \\tTrain Dataset\")\n",
    "print(\"Classification Accuracy \\t:\", RandomForest.score(X_train, y_train))\n",
    "print()\n",
    "\n",
    "# Check the Goodness of Fit (on Test Data)\n",
    "print(\"Goodness of Fit of Model \\tTest Dataset\")\n",
    "print(\"Classification Accuracy \\t:\", RandomForest.score(X_test, y_test))\n",
    "print()\n",
    "\n",
    "disp = metrics.plot_confusion_matrix(RandomForest, X_test, y_test)\n",
    "disp.figure_.suptitle(\"Confusion Matrix\")\n",
    "print(f\"Confusion matrix:\\n{disp.confusion_matrix}\")\n",
    "plt.show()\n",
    "\n",
    "# Use the loaded model to make predictions\n",
    "RandomForest_from_joblib.predict(X_test)"
   ]
  },
  {
   "cell_type": "markdown",
   "metadata": {},
   "source": [
    "## Neural network model"
   ]
  },
  {
   "cell_type": "code",
   "execution_count": 270,
   "metadata": {},
   "outputs": [
    {
     "name": "stdout",
     "output_type": "stream",
     "text": [
      "Goodness of Fit of Model \tTrain Dataset\n",
      "Classification Accuracy \t: 1.0\n",
      "\n",
      "Goodness of Fit of Model \tTest Dataset\n",
      "Classification Accuracy \t: 0.5833333333333334\n",
      "\n",
      "Confusion matrix:\n",
      "[[1 0 0 0]\n",
      " [1 4 0 0]\n",
      " [0 1 2 0]\n",
      " [2 1 0 0]]\n"
     ]
    },
    {
     "data": {
      "image/png": "[encoded data removed]",
      "text/plain": [
       "<Figure size 432x288 with 2 Axes>"
      ]
     },
     "metadata": {
      "needs_background": "light"
     },
     "output_type": "display_data"
    },
    {
     "data": {
      "text/plain": [
       "array([1, 0, 0, 0, 1, 1, 2, 1, 1, 0, 1, 2])"
      ]
     },
     "execution_count": 270,
     "metadata": {},
     "output_type": "execute_result"
    }
   ],
   "source": [
    "X_train, X_test, y_train, y_test = train_test_split(X, y, test_size=.3, random_state=12)\n",
    "\n",
    "NeuralNetwork = classifiers[6]\n",
    "# Learn the digits on the train subset\n",
    "NeuralNetwork.fit(X_train, y_train)\n",
    "\n",
    "# Save the model as a pickle in a file\n",
    "joblib.dump(NeuralNetwork, 'NeuralNetwork.pkl')\n",
    " \n",
    "# Load the model from the file\n",
    "NeuralNetwork_from_joblib = joblib.load('NeuralNetwork.pkl')\n",
    "\n",
    "# Check the Goodness of Fit (on Train Data)\n",
    "print(\"Goodness of Fit of Model \\tTrain Dataset\")\n",
    "print(\"Classification Accuracy \\t:\", NeuralNetwork.score(X_train, y_train))\n",
    "print()\n",
    "\n",
    "# Check the Goodness of Fit (on Test Data)\n",
    "print(\"Goodness of Fit of Model \\tTest Dataset\")\n",
    "print(\"Classification Accuracy \\t:\", NeuralNetwork.score(X_test, y_test))\n",
    "print()\n",
    "\n",
    "disp = metrics.plot_confusion_matrix(NeuralNetwork, X_test, y_test)\n",
    "disp.figure_.suptitle(\"Confusion Matrix\")\n",
    "print(f\"Confusion matrix:\\n{disp.confusion_matrix}\")\n",
    "plt.show()\n",
    "\n",
    "# Use the loaded model to make predictions\n",
    "NeuralNetwork_from_joblib.predict(X_test)"
   ]
  },
  {
   "cell_type": "markdown",
   "metadata": {},
   "source": [
    "## AdaBoost Model"
   ]
  },
  {
   "cell_type": "code",
   "execution_count": 271,
   "metadata": {},
   "outputs": [
    {
     "name": "stdout",
     "output_type": "stream",
     "text": [
      "Goodness of Fit of Model \tTrain Dataset\n",
      "Classification Accuracy \t: 0.6071428571428571\n",
      "\n",
      "Goodness of Fit of Model \tTest Dataset\n",
      "Classification Accuracy \t: 0.4166666666666667\n",
      "\n",
      "Confusion matrix:\n",
      "[[0 0 1 0]\n",
      " [0 0 0 5]\n",
      " [0 0 2 1]\n",
      " [0 0 0 3]]\n"
     ]
    },
    {
     "data": {
      "image/png": "[encoded data removed]",
      "text/plain": [
       "<Figure size 432x288 with 2 Axes>"
      ]
     },
     "metadata": {
      "needs_background": "light"
     },
     "output_type": "display_data"
    },
    {
     "data": {
      "text/plain": [
       "array([2, 3, 2, 3, 3, 3, 2, 3, 3, 3, 3, 3])"
      ]
     },
     "execution_count": 271,
     "metadata": {},
     "output_type": "execute_result"
    }
   ],
   "source": [
    "X_train, X_test, y_train, y_test = train_test_split(X, y, test_size=.3, random_state=12)\n",
    "\n",
    "AdaBoost = classifiers[7]\n",
    "# Learn the digits on the train subset\n",
    "AdaBoost.fit(X_train, y_train)\n",
    "\n",
    "# Save the model as a pickle in a file\n",
    "joblib.dump(AdaBoost, 'AdaBoost.pkl')\n",
    " \n",
    "# Load the model from the file\n",
    "AdaBoost_from_joblib = joblib.load('AdaBoost.pkl')\n",
    "\n",
    "# Check the Goodness of Fit (on Train Data)\n",
    "print(\"Goodness of Fit of Model \\tTrain Dataset\")\n",
    "print(\"Classification Accuracy \\t:\", AdaBoost.score(X_train, y_train))\n",
    "print()\n",
    "\n",
    "# Check the Goodness of Fit (on Test Data)\n",
    "print(\"Goodness of Fit of Model \\tTest Dataset\")\n",
    "print(\"Classification Accuracy \\t:\", AdaBoost.score(X_test, y_test))\n",
    "print()\n",
    "\n",
    "disp = metrics.plot_confusion_matrix(AdaBoost, X_test, y_test)\n",
    "disp.figure_.suptitle(\"Confusion Matrix\")\n",
    "print(f\"Confusion matrix:\\n{disp.confusion_matrix}\")\n",
    "plt.show()\n",
    "\n",
    "# Use the loaded model to make predictions\n",
    "AdaBoost_from_joblib.predict(X_test)"
   ]
  },
  {
   "cell_type": "markdown",
   "metadata": {},
   "source": [
    "## Naive Bayes Model"
   ]
  },
  {
   "cell_type": "code",
   "execution_count": 272,
   "metadata": {},
   "outputs": [
    {
     "name": "stdout",
     "output_type": "stream",
     "text": [
      "Goodness of Fit of Model \tTrain Dataset\n",
      "Classification Accuracy \t: 1.0\n",
      "\n",
      "Goodness of Fit of Model \tTest Dataset\n",
      "Classification Accuracy \t: 0.75\n",
      "\n",
      "Confusion matrix:\n",
      "[[1 0 0 0]\n",
      " [1 4 0 0]\n",
      " [0 0 3 0]\n",
      " [2 0 0 1]]\n"
     ]
    },
    {
     "data": {
      "image/png": "[encoded data removed]",
      "text/plain": [
       "<Figure size 432x288 with 2 Axes>"
      ]
     },
     "metadata": {
      "needs_background": "light"
     },
     "output_type": "display_data"
    },
    {
     "data": {
      "text/plain": [
       "array([2, 0, 0, 0, 1, 1, 2, 1, 1, 3, 0, 2])"
      ]
     },
     "execution_count": 272,
     "metadata": {},
     "output_type": "execute_result"
    }
   ],
   "source": [
    "X_train, X_test, y_train, y_test = train_test_split(X, y, test_size=.3, random_state=12)\n",
    "\n",
    "NaiveBayes = classifiers[8]\n",
    "# Learn the digits on the train subset\n",
    "NaiveBayes.fit(X_train, y_train)\n",
    "\n",
    "# Save the model as a pickle in a file\n",
    "joblib.dump(NaiveBayes, 'NaiveBayes.pkl')\n",
    " \n",
    "# Load the model from the file\n",
    "NaiveBayes_from_joblib = joblib.load('NaiveBayes.pkl')\n",
    "\n",
    "# Check the Goodness of Fit (on Train Data)\n",
    "print(\"Goodness of Fit of Model \\tTrain Dataset\")\n",
    "print(\"Classification Accuracy \\t:\", NaiveBayes.score(X_train, y_train))\n",
    "print()\n",
    "\n",
    "# Check the Goodness of Fit (on Test Data)\n",
    "print(\"Goodness of Fit of Model \\tTest Dataset\")\n",
    "print(\"Classification Accuracy \\t:\", NaiveBayes.score(X_test, y_test))\n",
    "print()\n",
    "\n",
    "disp = metrics.plot_confusion_matrix(NaiveBayes, X_test, y_test)\n",
    "disp.figure_.suptitle(\"Confusion Matrix\")\n",
    "print(f\"Confusion matrix:\\n{disp.confusion_matrix}\")\n",
    "plt.show()\n",
    "\n",
    "# Use the loaded model to make predictions\n",
    "NaiveBayes_from_joblib.predict(X_test)"
   ]
  },
  {
   "cell_type": "markdown",
   "metadata": {},
   "source": [
    "## Quadratic Discriminant Analysis (QDA)"
   ]
  },
  {
   "cell_type": "code",
   "execution_count": 273,
   "metadata": {},
   "outputs": [
    {
     "name": "stderr",
     "output_type": "stream",
     "text": [
      "C:\\Users\\Thum Yi Wen\\Downloads\\anaconda\\lib\\site-packages\\sklearn\\discriminant_analysis.py:715: UserWarning: Variables are collinear\n",
      "  warnings.warn(\"Variables are collinear\")\n"
     ]
    },
    {
     "name": "stdout",
     "output_type": "stream",
     "text": [
      "Goodness of Fit of Model \tTrain Dataset\n",
      "Classification Accuracy \t: 1.0\n",
      "\n",
      "Goodness of Fit of Model \tTest Dataset\n",
      "Classification Accuracy \t: 0.25\n",
      "\n",
      "Confusion matrix:\n",
      "[[0 0 1 0]\n",
      " [1 3 1 0]\n",
      " [0 3 0 0]\n",
      " [0 3 0 0]]\n"
     ]
    },
    {
     "data": {
      "image/png": "[encoded data removed]",
      "text/plain": [
       "<Figure size 432x288 with 2 Axes>"
      ]
     },
     "metadata": {
      "needs_background": "light"
     },
     "output_type": "display_data"
    },
    {
     "data": {
      "text/plain": [
       "array([1, 1, 2, 2, 1, 0, 1, 1, 1, 1, 1, 1])"
      ]
     },
     "execution_count": 273,
     "metadata": {},
     "output_type": "execute_result"
    }
   ],
   "source": [
    "X_train, X_test, y_train, y_test = train_test_split(X, y, test_size=.3, random_state=12)\n",
    "\n",
    "QDA = classifiers[9]\n",
    "# Learn the digits on the train subset\n",
    "QDA.fit(X_train, y_train)\n",
    "\n",
    "# Save the model as a pickle in a file\n",
    "joblib.dump(QDA, 'QDA.pkl')\n",
    " \n",
    "# Load the model from the file\n",
    "QDA_from_joblib = joblib.load('QDA.pkl')\n",
    "\n",
    "# Check the Goodness of Fit (on Train Data)\n",
    "print(\"Goodness of Fit of Model \\tTrain Dataset\")\n",
    "print(\"Classification Accuracy \\t:\", QDA.score(X_train, y_train))\n",
    "print()\n",
    "\n",
    "# Check the Goodness of Fit (on Test Data)\n",
    "print(\"Goodness of Fit of Model \\tTest Dataset\")\n",
    "print(\"Classification Accuracy \\t:\", QDA.score(X_test, y_test))\n",
    "print()\n",
    "\n",
    "disp = metrics.plot_confusion_matrix(QDA, X_test, y_test)\n",
    "disp.figure_.suptitle(\"Confusion Matrix\")\n",
    "print(f\"Confusion matrix:\\n{disp.confusion_matrix}\")\n",
    "plt.show()\n",
    "\n",
    "# Use the loaded model to make predictions\n",
    "QDA_from_joblib.predict(X_test)"
   ]
  },
  {
   "cell_type": "markdown",
   "metadata": {},
   "source": [
    "## Linear Discriminant Analysis(LDA)"
   ]
  },
  {
   "cell_type": "code",
   "execution_count": 274,
   "metadata": {},
   "outputs": [
    {
     "name": "stdout",
     "output_type": "stream",
     "text": [
      "Goodness of Fit of Model \tTrain Dataset\n",
      "Classification Accuracy \t: 0.75\n",
      "\n",
      "Goodness of Fit of Model \tTest Dataset\n",
      "Classification Accuracy \t: 0.6666666666666666\n",
      "\n",
      "Confusion matrix:\n",
      "[[1 0 0 0]\n",
      " [0 1 4 0]\n",
      " [0 0 3 0]\n",
      " [0 0 0 3]]\n"
     ]
    },
    {
     "data": {
      "image/png": "[encoded data removed]",
      "text/plain": [
       "<Figure size 432x288 with 2 Axes>"
      ]
     },
     "metadata": {
      "needs_background": "light"
     },
     "output_type": "display_data"
    },
    {
     "data": {
      "text/plain": [
       "array([2, 3, 0, 2, 2, 1, 2, 2, 2, 3, 3, 2])"
      ]
     },
     "execution_count": 274,
     "metadata": {},
     "output_type": "execute_result"
    }
   ],
   "source": [
    "X_train, X_test, y_train, y_test = train_test_split(X, y, test_size=.3, random_state=12)\n",
    "\n",
    "LinearDiscriminantAnalysis = LinearDiscriminantAnalysis()\n",
    "# Learn the digits on the train subset\n",
    "LinearDiscriminantAnalysis.fit(X_train, y_train)\n",
    "\n",
    "# Save the model as a pickle in a file\n",
    "joblib.dump(LinearDiscriminantAnalysis, 'LinearDiscriminantAnalysis.pkl')\n",
    " \n",
    "# Load the model from the file\n",
    "LinearDiscriminantAnalysis_from_joblib = joblib.load('LinearDiscriminantAnalysis.pkl')\n",
    "\n",
    "# Check the Goodness of Fit (on Train Data)\n",
    "print(\"Goodness of Fit of Model \\tTrain Dataset\")\n",
    "print(\"Classification Accuracy \\t:\", LinearDiscriminantAnalysis.score(X_train, y_train))\n",
    "print()\n",
    "\n",
    "# Check the Goodness of Fit (on Test Data)\n",
    "print(\"Goodness of Fit of Model \\tTest Dataset\")\n",
    "print(\"Classification Accuracy \\t:\", LinearDiscriminantAnalysis.score(X_test, y_test))\n",
    "print()\n",
    "\n",
    "disp = metrics.plot_confusion_matrix(LinearDiscriminantAnalysis, X_test, y_test)\n",
    "disp.figure_.suptitle(\"Confusion Matrix\")\n",
    "print(f\"Confusion matrix:\\n{disp.confusion_matrix}\")\n",
    "plt.show()\n",
    "\n",
    "# Use the loaded model to make predictions\n",
    "LinearDiscriminantAnalysis_from_joblib.predict(X_test)"
   ]
  },
  {
   "cell_type": "markdown",
   "metadata": {},
   "source": [
    "## Logistic Regression Model"
   ]
  },
  {
   "cell_type": "code",
   "execution_count": 275,
   "metadata": {},
   "outputs": [
    {
     "name": "stdout",
     "output_type": "stream",
     "text": [
      "Goodness of Fit of Model \tTrain Dataset\n",
      "Classification Accuracy \t: 1.0\n",
      "\n",
      "Goodness of Fit of Model \tTest Dataset\n",
      "Classification Accuracy \t: 0.75\n",
      "\n",
      "Confusion matrix:\n",
      "[[1 0 0 0]\n",
      " [0 2 2 1]\n",
      " [0 0 3 0]\n",
      " [0 0 0 3]]\n"
     ]
    },
    {
     "data": {
      "image/png": "[encoded data removed]",
      "text/plain": [
       "<Figure size 432x288 with 2 Axes>"
      ]
     },
     "metadata": {
      "needs_background": "light"
     },
     "output_type": "display_data"
    },
    {
     "data": {
      "text/plain": [
       "array([2, 3, 0, 2, 1, 1, 2, 2, 3, 3, 3, 2])"
      ]
     },
     "execution_count": 275,
     "metadata": {},
     "output_type": "execute_result"
    }
   ],
   "source": [
    "X_train, X_test, y_train, y_test = train_test_split(X, y, test_size=.3, random_state=12)\n",
    "\n",
    "logisticregression = LogisticRegression(random_state=12)\n",
    "# Learn the digits on the train subset\n",
    "logisticregression.fit(X_train, y_train)\n",
    "\n",
    "# Save the model as a pickle in a file\n",
    "joblib.dump(logisticregression, 'logisticregression.pkl')\n",
    " \n",
    "# Load the model from the file\n",
    "logisticregression_from_joblib = joblib.load('logisticregression.pkl')\n",
    "\n",
    "# Check the Goodness of Fit (on Train Data)\n",
    "print(\"Goodness of Fit of Model \\tTrain Dataset\")\n",
    "print(\"Classification Accuracy \\t:\", logisticregression.score(X_train, y_train))\n",
    "print()\n",
    "\n",
    "# Check the Goodness of Fit (on Test Data)\n",
    "print(\"Goodness of Fit of Model \\tTest Dataset\")\n",
    "print(\"Classification Accuracy \\t:\", logisticregression.score(X_test, y_test))\n",
    "print()\n",
    "\n",
    "disp = metrics.plot_confusion_matrix(logisticregression, X_test, y_test)\n",
    "disp.figure_.suptitle(\"Confusion Matrix\")\n",
    "print(f\"Confusion matrix:\\n{disp.confusion_matrix}\")\n",
    "plt.show()\n",
    "\n",
    "# Use the loaded model to make predictions\n",
    "logisticregression_from_joblib.predict(X_test)"
   ]
  },
  {
   "cell_type": "code",
   "execution_count": null,
   "metadata": {},
   "outputs": [],
   "source": []
  },
  {
   "cell_type": "code",
   "execution_count": null,
   "metadata": {},
   "outputs": [],
   "source": []
  },
  {
   "cell_type": "code",
   "execution_count": null,
   "metadata": {},
   "outputs": [],
   "source": []
  },
  {
   "cell_type": "code",
   "execution_count": null,
   "metadata": {},
   "outputs": [],
   "source": []
  },
  {
   "cell_type": "code",
   "execution_count": null,
   "metadata": {},
   "outputs": [],
   "source": []
  },
  {
   "cell_type": "code",
   "execution_count": null,
   "metadata": {},
   "outputs": [],
   "source": []
  }
 ],
 "metadata": {
  "interpreter": {
   "hash": "203d1785ba7f076f223b5731fa52e3e1cbf9a319bdcf81f42a05adbb9ebcda5b"
  },
  "kernelspec": {
   "display_name": "Python 3",
   "language": "python",
   "name": "python3"
  },
  "language_info": {
   "codemirror_mode": {
    "name": "ipython",
    "version": 3
   },
   "file_extension": ".py",
   "mimetype": "text/x-python",
   "name": "python",
   "nbconvert_exporter": "python",
   "pygments_lexer": "ipython3",
   "version": "3.8.3"
  }
 },
 "nbformat": 4,
 "nbformat_minor": 2
}
