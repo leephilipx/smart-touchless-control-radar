{
 "cells": [
  {
   "cell_type": "code",
   "execution_count": 29,
   "source": [
    "# Code source: Gaël Varoquaux\r\n",
    "#              Andreas Müller\r\n",
    "# Modified for documentation by Jaques Grobler\r\n",
    "# License: BSD 3 clause\r\n",
    "\r\n",
    "import numpy as np\r\n",
    "import matplotlib.pyplot as plt\r\n",
    "import pandas as pd\r\n",
    "import seaborn as sns\r\n",
    "import os\r\n",
    "\r\n",
    "from matplotlib.colors import ListedColormap\r\n",
    "from sklearn.model_selection import train_test_split\r\n",
    "from sklearn.preprocessing import StandardScaler\r\n",
    "from sklearn.datasets import make_moons, make_circles, make_classification\r\n",
    "from sklearn.neural_network import MLPClassifier\r\n",
    "from sklearn.neighbors import KNeighborsClassifier\r\n",
    "from sklearn.svm import SVC\r\n",
    "from sklearn.gaussian_process import GaussianProcessClassifier\r\n",
    "from sklearn.gaussian_process.kernels import RBF\r\n",
    "from sklearn.tree import DecisionTreeClassifier\r\n",
    "from sklearn.ensemble import RandomForestClassifier, AdaBoostClassifier\r\n",
    "from sklearn.naive_bayes import GaussianNB\r\n",
    "from sklearn.discriminant_analysis import QuadraticDiscriminantAnalysis"
   ],
   "outputs": [],
   "metadata": {}
  },
  {
   "cell_type": "code",
   "execution_count": 19,
   "source": [
    "h = .02  # step size in the mesh\r\n",
    "\r\n",
    "names = [\"Nearest Neighbors\", \"Linear SVM\", \"RBF SVM\", \"Gaussian Process\",\r\n",
    "         \"Decision Tree\", \"Random Forest\", \"Neural Net\", \"AdaBoost\",\r\n",
    "         \"Naive Bayes\", \"QDA\"]\r\n",
    "\r\n",
    "classifiers = [\r\n",
    "    KNeighborsClassifier(3),\r\n",
    "    SVC(kernel=\"linear\", C=0.025),\r\n",
    "    SVC(gamma=2, C=1),\r\n",
    "    GaussianProcessClassifier(1.0 * RBF(1.0)),\r\n",
    "    DecisionTreeClassifier(max_depth=5),\r\n",
    "    RandomForestClassifier(max_depth=5, n_estimators=10, max_features=1),\r\n",
    "    MLPClassifier(alpha=1, max_iter=1000),\r\n",
    "    AdaBoostClassifier(),\r\n",
    "    GaussianNB(),\r\n",
    "    QuadraticDiscriminantAnalysis()]\r\n",
    "\r\n",
    "X, y = make_classification(n_features=2, n_redundant=0, n_informative=2,\r\n",
    "                           random_state=1, n_clusters_per_class=1)\r\n",
    "rng = np.random.RandomState(2)\r\n",
    "X += 2 * rng.uniform(size=X.shape)\r\n",
    "linearly_separable = (X, y)"
   ],
   "outputs": [],
   "metadata": {}
  },
  {
   "cell_type": "code",
   "execution_count": 25,
   "source": [
    "path=os.path.dirname(os.path.realpath('machine_learning.py'))\r\n",
    "car=[]\r\n",
    "x=[]\r\n",
    "y=[]\r\n",
    "file=os.listdir(path+'/Cars/')\r\n",
    "print(file)\r\n",
    "for i in file:\r\n",
    "    f=os.listdir(path+'/Cars/'+i)\r\n",
    "    for j in f:\r\n",
    "        p=pd.read_csv(path+\"/Cars/\"+i+\"/\"+j,header=None)\r\n",
    "        p=p.to_numpy()\r\n",
    "        car.append(p)\r\n",
    "        x.append(p)\r\n",
    "        d=[1,0,0]\r\n",
    "        y.append(d)\r\n",
    "print(\"done car\")\r\n",
    "drone=[]\r\n",
    "file=os.listdir(path+'/Drones/')\r\n",
    "for i in file:\r\n",
    "    f=os.listdir(path+'/Drones/'+i)\r\n",
    "    for j in f:\r\n",
    "        p=pd.read_csv(path+\"/Drones/\"+i+\"/\"+j,header=None)\r\n",
    "        p=p.to_numpy()\r\n",
    "        drone.append(p)\r\n",
    "        x.append(p)\r\n",
    "        d=[0,1,0]\r\n",
    "        y.append(d)\r\n",
    "print(\"done drone\")        \r\n",
    "people=[]\r\n",
    "file=os.listdir(path+'/People/')\r\n",
    "for i in file:\r\n",
    "    f=os.listdir(path+'/People/'+i)\r\n",
    "    for j in f:\r\n",
    "        p=pd.read_csv(path+\"/People/\"+i+\"/\"+j,header=None)\r\n",
    "        p=p.to_numpy()\r\n",
    "        people.append(p)\r\n",
    "        x.append(p)\r\n",
    "        d=[0,0,1]\r\n",
    "        y.append(d)\r\n",
    "print(\"done people\")"
   ],
   "outputs": [
    {
     "output_type": "stream",
     "name": "stdout",
     "text": [
      "['13-13', '13-13p', '13-19', '13-23', '13-23p', '13-29', '13-38', '13-44', '13-49', '13-49p', '13-54', '15-37', '15-37p', '15-42', '15-42p', '15-48', '15-48p', '15-55', '15-55a', '15-55m', '15-55p', '16-01', '16-01p', '16-07', '16-07p', '17-09', '17-09p']\n",
      "done car\n",
      "done drone\n",
      "done people\n"
     ]
    }
   ],
   "metadata": {}
  },
  {
   "cell_type": "code",
   "execution_count": 56,
   "source": [
    "car=np.asarray(car)\r\n",
    "np.shape(car)\r\n",
    "car=np.absolute(car)\r\n",
    "drone=np.absolute(drone)\r\n",
    "people=np.absolute(people)\r\n",
    "fig, axes = plt.subplots(1, 3, figsize=(10, 10))\r\n",
    "plt.axis('off')\r\n",
    "img_list = [car, drone, people]\r\n",
    "for i in img_list:\r\n",
    "    sns.heatmap(i[20],vmin=70,vmax=140,ax=axes[1][i])\r\n"
   ],
   "outputs": [
    {
     "output_type": "error",
     "ename": "TypeError",
     "evalue": "'AxesSubplot' object is not subscriptable",
     "traceback": [
      "\u001b[1;31m---------------------------------------------------------------------------\u001b[0m",
      "\u001b[1;31mTypeError\u001b[0m                                 Traceback (most recent call last)",
      "\u001b[1;32mC:\\Users\\WYLEE~1\\AppData\\Local\\Temp/ipykernel_8888/1366972368.py\u001b[0m in \u001b[0;36m<module>\u001b[1;34m\u001b[0m\n\u001b[0;32m      8\u001b[0m \u001b[0mimg_list\u001b[0m \u001b[1;33m=\u001b[0m \u001b[1;33m[\u001b[0m\u001b[0mcar\u001b[0m\u001b[1;33m,\u001b[0m \u001b[0mdrone\u001b[0m\u001b[1;33m,\u001b[0m \u001b[0mpeople\u001b[0m\u001b[1;33m]\u001b[0m\u001b[1;33m\u001b[0m\u001b[1;33m\u001b[0m\u001b[0m\n\u001b[0;32m      9\u001b[0m \u001b[1;32mfor\u001b[0m \u001b[0mi\u001b[0m \u001b[1;32min\u001b[0m \u001b[0mimg_list\u001b[0m\u001b[1;33m:\u001b[0m\u001b[1;33m\u001b[0m\u001b[1;33m\u001b[0m\u001b[0m\n\u001b[1;32m---> 10\u001b[1;33m     \u001b[0msns\u001b[0m\u001b[1;33m.\u001b[0m\u001b[0mheatmap\u001b[0m\u001b[1;33m(\u001b[0m\u001b[0mi\u001b[0m\u001b[1;33m[\u001b[0m\u001b[1;36m20\u001b[0m\u001b[1;33m]\u001b[0m\u001b[1;33m,\u001b[0m\u001b[0mvmin\u001b[0m\u001b[1;33m=\u001b[0m\u001b[1;36m70\u001b[0m\u001b[1;33m,\u001b[0m\u001b[0mvmax\u001b[0m\u001b[1;33m=\u001b[0m\u001b[1;36m140\u001b[0m\u001b[1;33m,\u001b[0m\u001b[0max\u001b[0m\u001b[1;33m=\u001b[0m\u001b[0maxes\u001b[0m\u001b[1;33m[\u001b[0m\u001b[1;36m1\u001b[0m\u001b[1;33m]\u001b[0m\u001b[1;33m[\u001b[0m\u001b[0mi\u001b[0m\u001b[1;33m]\u001b[0m\u001b[1;33m)\u001b[0m\u001b[1;33m\u001b[0m\u001b[1;33m\u001b[0m\u001b[0m\n\u001b[0m",
      "\u001b[1;31mTypeError\u001b[0m: 'AxesSubplot' object is not subscriptable"
     ]
    },
    {
     "output_type": "display_data",
     "data": {
      "image/png": "[encoded data removed]",
      "text/plain": [
       "<Figure size 720x720 with 3 Axes>"
      ]
     },
     "metadata": {
      "needs_background": "light"
     }
    }
   ],
   "metadata": {}
  },
  {
   "cell_type": "code",
   "execution_count": null,
   "source": [
    "figure = plt.figure(figsize=(27, 9))\r\n",
    "i = 1\r\n",
    "# iterate over datasets\r\n",
    "for ds_cnt, ds in enumerate(datasets):\r\n",
    "    # preprocess dataset, split into training and test part\r\n",
    "    X, y = ds\r\n",
    "    X = StandardScaler().fit_transform(X)\r\n",
    "    X_train, X_test, y_train, y_test = \\\r\n",
    "        train_test_split(X, y, test_size=.4, random_state=42)\r\n",
    "\r\n",
    "    x_min, x_max = X[:, 0].min() - .5, X[:, 0].max() + .5\r\n",
    "    y_min, y_max = X[:, 1].min() - .5, X[:, 1].max() + .5\r\n",
    "    xx, yy = np.meshgrid(np.arange(x_min, x_max, h),\r\n",
    "                         np.arange(y_min, y_max, h))\r\n",
    "\r\n",
    "    # just plot the dataset first\r\n",
    "    cm = plt.cm.RdBu\r\n",
    "    cm_bright = ListedColormap(['#FF0000', '#0000FF'])\r\n",
    "    ax = plt.subplot(len(datasets), len(classifiers) + 1, i)\r\n",
    "    if ds_cnt == 0:\r\n",
    "        ax.set_title(\"Input data\")\r\n",
    "    # Plot the training points\r\n",
    "    ax.scatter(X_train[:, 0], X_train[:, 1], c=y_train, cmap=cm_bright,\r\n",
    "               edgecolors='k')\r\n",
    "    # Plot the testing points\r\n",
    "    ax.scatter(X_test[:, 0], X_test[:, 1], c=y_test, cmap=cm_bright, alpha=0.6,\r\n",
    "               edgecolors='k')\r\n",
    "    ax.set_xlim(xx.min(), xx.max())\r\n",
    "    ax.set_ylim(yy.min(), yy.max())\r\n",
    "    ax.set_xticks(())\r\n",
    "    ax.set_yticks(())\r\n",
    "    i += 1\r\n",
    "\r\n",
    "    # iterate over classifiers\r\n",
    "    for name, clf in zip(names, classifiers):\r\n",
    "        ax = plt.subplot(len(datasets), len(classifiers) + 1, i)\r\n",
    "        clf.fit(X_train, y_train)\r\n",
    "        score = clf.score(X_test, y_test)\r\n",
    "\r\n",
    "        # Plot the decision boundary. For that, we will assign a color to each\r\n",
    "        # point in the mesh [x_min, x_max]x[y_min, y_max].\r\n",
    "        if hasattr(clf, \"decision_function\"):\r\n",
    "            Z = clf.decision_function(np.c_[xx.ravel(), yy.ravel()])\r\n",
    "        else:\r\n",
    "            Z = clf.predict_proba(np.c_[xx.ravel(), yy.ravel()])[:, 1]\r\n",
    "\r\n",
    "        # Put the result into a color plot\r\n",
    "        Z = Z.reshape(xx.shape)\r\n",
    "        ax.contourf(xx, yy, Z, cmap=cm, alpha=.8)\r\n",
    "\r\n",
    "        # Plot the training points\r\n",
    "        ax.scatter(X_train[:, 0], X_train[:, 1], c=y_train, cmap=cm_bright,\r\n",
    "                   edgecolors='k')\r\n",
    "        # Plot the testing points\r\n",
    "        ax.scatter(X_test[:, 0], X_test[:, 1], c=y_test, cmap=cm_bright,\r\n",
    "                   edgecolors='k', alpha=0.6)\r\n",
    "\r\n",
    "        ax.set_xlim(xx.min(), xx.max())\r\n",
    "        ax.set_ylim(yy.min(), yy.max())\r\n",
    "        ax.set_xticks(())\r\n",
    "        ax.set_yticks(())\r\n",
    "        if ds_cnt == 0:\r\n",
    "            ax.set_title(name)\r\n",
    "        ax.text(xx.max() - .3, yy.min() + .3, ('%.2f' % score).lstrip('0'),\r\n",
    "                size=15, horizontalalignment='right')\r\n",
    "        i += 1\r\n",
    "\r\n",
    "plt.tight_layout()\r\n",
    "plt.show()"
   ],
   "outputs": [],
   "metadata": {}
  }
 ],
 "metadata": {
  "orig_nbformat": 4,
  "language_info": {
   "name": "python",
   "version": "3.8.11",
   "mimetype": "text/x-python",
   "codemirror_mode": {
    "name": "ipython",
    "version": 3
   },
   "pygments_lexer": "ipython3",
   "nbconvert_exporter": "python",
   "file_extension": ".py"
  },
  "kernelspec": {
   "name": "python3",
   "display_name": "Python 3.8.11 64-bit ('dip': conda)"
  },
  "interpreter": {
   "hash": "203d1785ba7f076f223b5731fa52e3e1cbf9a319bdcf81f42a05adbb9ebcda5b"
  }
 },
 "nbformat": 4,
 "nbformat_minor": 2
}