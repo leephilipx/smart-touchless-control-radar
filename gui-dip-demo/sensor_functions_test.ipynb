{
 "cells": [
  {
   "cell_type": "code",
   "execution_count": 5,
   "source": [
    "import os, numpy as np\r\n",
    "from re import findall\r\n",
    "from acconeer.exptool import utils, clients, configs\r\n",
    "import matplotlib.pyplot as plt\r\n",
    "\r\n",
    "%matplotlib inline"
   ],
   "outputs": [],
   "metadata": {}
  },
  {
   "cell_type": "code",
   "execution_count": 34,
   "source": [
    "class AcconeerSensorDataCollection:\r\n",
    "\r\n",
    "    '''\r\n",
    "    Creates a sensor object and its helper functions:\r\n",
    "    • Connect to the Acconeer Radar sensor via serial/socket,\r\n",
    "    • Load sensor configs from a json file,\r\n",
    "    • Obtain data via IQ mode and save it to a .npy file.\r\n",
    "    '''\r\n",
    "\r\n",
    "    def __init__(self, method, Nframes, config_path='sensor_configs.json'):\r\n",
    "\r\n",
    "        self.connection_state = False\r\n",
    "        self.session_state = False\r\n",
    "        self.method = method\r\n",
    "        self.Nframes = Nframes\r\n",
    "        self.config_path = config_path\r\n",
    "\r\n",
    "\r\n",
    "    def autodetect_serial_port(self):\r\n",
    "        return utils.autodetect_serial_port()\r\n",
    "\r\n",
    "\r\n",
    "    def list_serial_ports(self):\r\n",
    "\r\n",
    "        try:\r\n",
    "            opsys = os.uname()\r\n",
    "            in_wsl = 'microsoft' in opsys.release.lower() and 'linux' in opsys.sysname.lower()\r\n",
    "        except Exception:\r\n",
    "            in_wsl = False\r\n",
    "\r\n",
    "        port_tag_tuples = utils.get_tagged_serial_ports()\r\n",
    "\r\n",
    "        if not in_wsl and os.name == 'posix':\r\n",
    "            ports = []\r\n",
    "            for i, (port, tag) in enumerate(port_tag_tuples):\r\n",
    "                tag_string = ''\r\n",
    "                if tag:\r\n",
    "                    select = i\r\n",
    "                    tag_string = ' ({})'.format(tag)\r\n",
    "                ports.append(port + tag_string)\r\n",
    "        else:\r\n",
    "            ports = [port for port, *_ in port_tag_tuples]\r\n",
    "\r\n",
    "        try:\r\n",
    "            if in_wsl:\r\n",
    "                print('>> WSL detected. Limiting serial ports')\r\n",
    "                ports_reduced = []\r\n",
    "                for p in ports:\r\n",
    "                    if int(findall(r'\\d+', p)[0]) < 20:\r\n",
    "                        ports_reduced.append(p)\r\n",
    "                ports = ports_reduced\r\n",
    "        except Exception:\r\n",
    "            pass\r\n",
    "\r\n",
    "        return ports\r\n",
    "\r\n",
    "\r\n",
    "    def connect_sensor(self, port):\r\n",
    "\r\n",
    "        if not self.connection_state:\r\n",
    "\r\n",
    "            self.client = clients.UARTClient(port)\r\n",
    "            self.client.squeeze = False\r\n",
    "\r\n",
    "            try:\r\n",
    "                info = self.client.connect()\r\n",
    "                self.rss_version = info.get('version_str', None)\r\n",
    "                print(f'>> Connection success! RSS v{self.rss_version}')\r\n",
    "                self.connection_state = True\r\n",
    "                \r\n",
    "            except Exception:\r\n",
    "                print('>> Could not connect to sensor, please check the physical connection / free up the port.')\r\n",
    "            \r\n",
    "    \r\n",
    "    def disconnect_sensor(self, verbose=True):\r\n",
    "\r\n",
    "        if self.connection_state:\r\n",
    "            try:\r\n",
    "                if not self.session_state:\r\n",
    "                    self.stop_session(verbose=False)\r\n",
    "                self.client.disconnect()\r\n",
    "                print('>> Client disconnected!')\r\n",
    "                self.connection_state = False\r\n",
    "            except Exception:\r\n",
    "                pass\r\n",
    "        \r\n",
    "        elif verbose:\r\n",
    "            print('>> Disconnect failed, no active connection found!')\r\n",
    "\r\n",
    "\r\n",
    "    def check_connection_state(self):\r\n",
    "\r\n",
    "        if self.connection_state:\r\n",
    "            return True\r\n",
    "        else:\r\n",
    "            print('>> Connection not established with client. Please run AcconeerSensorDIP.connect_sensor()')\r\n",
    "            return False\r\n",
    "        \r\n",
    "\r\n",
    "    def get_data(self):\r\n",
    "\r\n",
    "        if not self.check_connection_state(): return\r\n",
    "        return self.client.get_next()\r\n",
    "\r\n",
    "\r\n",
    "    def start_session(self):\r\n",
    "        \r\n",
    "        '''\r\n",
    "        https://acconeer-python-exploration.readthedocs.io/en/latest/services/iq.html\r\n",
    "\r\n",
    "        IQServiceConfig\r\n",
    "        mode .............................. IQ\r\n",
    "        sensor ............................ [1]\r\n",
    "        range_interval .................... [0.2, 0.8]\r\n",
    "        profile ........................... PROFILE_2\r\n",
    "        update_rate ....................... 30.0\r\n",
    "        sampling_mode ..................... A\r\n",
    "        repetition_mode ................... HOST_DRIVEN\r\n",
    "        downsampling_factor ............... 1\r\n",
    "        hw_accelerated_average_samples .... 10\r\n",
    "        gain .............................. 0.5\r\n",
    "        maximize_signal_attenuation ....... False\r\n",
    "        noise_level_normalization ......... True\r\n",
    "        depth_lowpass_cutoff_ratio ........ None\r\n",
    "        tx_disable ........................ False\r\n",
    "        power_save_mode ................... ACTIVE\r\n",
    "        asynchronous_measurement .......... True\r\n",
    "        '''\r\n",
    "\r\n",
    "        if not self.check_connection_state(): return\r\n",
    "        self.sensor_config = configs.IQServiceConfig()\r\n",
    "        self.sensor_config.range_interval = [0.3, 0.6]\r\n",
    "        self.sensor_config.update_rate = 30\r\n",
    "\r\n",
    "        if not self.session_state:\r\n",
    "            \r\n",
    "            try:\r\n",
    "                self.session_info = self.client.setup_session(self.sensor_config)\r\n",
    "                self.client.start_session()\r\n",
    "                self.session_state = True\r\n",
    "                print('>> Session started!')\r\n",
    "            except Exception:\r\n",
    "                print('>> Session failed to start!')\r\n",
    "\r\n",
    "\r\n",
    "    def stop_session(self, verbose=True):\r\n",
    "        \r\n",
    "        if self.session_state:\r\n",
    "            try:\r\n",
    "                self.client.stop_session()\r\n",
    "                self.session_state = False\r\n",
    "                print('>> Active session stopped!')\r\n",
    "            except Exception:\r\n",
    "                pass\r\n",
    "\r\n",
    "        elif verbose:\r\n",
    "            print('>> Stop session failed, no active session found!')\r\n",
    "\r\n",
    "\r\n",
    "    def __del__(self):\r\n",
    "\r\n",
    "        self.stop_session(verbose=False)\r\n",
    "        self.disconnect_sensor(verbose=False)"
   ],
   "outputs": [],
   "metadata": {}
  },
  {
   "cell_type": "code",
   "execution_count": 38,
   "source": [
    "radar = AcconeerSensorDataCollection(method='serial', Nframes=128, config_path='')\r\n",
    "port = radar.autodetect_serial_port()\r\n",
    "radar.connect_sensor(port)\r\n",
    "radar.start_session()"
   ],
   "outputs": [
    {
     "output_type": "stream",
     "name": "stdout",
     "text": [
      "Autodetected single available serial port on COM3\n",
      "\n",
      ">> Connection success! RSS v2.8.2\n",
      ">> Session started!\n"
     ]
    }
   ],
   "metadata": {}
  },
  {
   "cell_type": "code",
   "execution_count": 17,
   "source": [
    "radar.get_data()[1].shape"
   ],
   "outputs": [
    {
     "output_type": "execute_result",
     "data": {
      "text/plain": [
       "(1, 621)"
      ]
     },
     "metadata": {},
     "execution_count": 17
    }
   ],
   "metadata": {}
  },
  {
   "cell_type": "code",
   "execution_count": 18,
   "source": [
    "depths = utils.get_range_depths(radar.sensor_config, radar.session_info)\r\n",
    "num_depths = depths.size\r\n",
    "\r\n",
    "num_depths"
   ],
   "outputs": [
    {
     "output_type": "execute_result",
     "data": {
      "text/plain": [
       "621"
      ]
     },
     "metadata": {},
     "execution_count": 18
    }
   ],
   "metadata": {}
  },
  {
   "cell_type": "code",
   "execution_count": 39,
   "source": [
    "radar.disconnect_sensor()"
   ],
   "outputs": [
    {
     "output_type": "stream",
     "name": "stdout",
     "text": [
      ">> Client disconnected!\n"
     ]
    }
   ],
   "metadata": {}
  },
  {
   "cell_type": "code",
   "execution_count": null,
   "source": [],
   "outputs": [],
   "metadata": {}
  }
 ],
 "metadata": {
  "orig_nbformat": 4,
  "language_info": {
   "name": "python",
   "version": "3.7.11",
   "mimetype": "text/x-python",
   "codemirror_mode": {
    "name": "ipython",
    "version": 3
   },
   "pygments_lexer": "ipython3",
   "nbconvert_exporter": "python",
   "file_extension": ".py"
  },
  "kernelspec": {
   "name": "python3",
   "display_name": "Python 3.7.11 64-bit ('dip': conda)"
  },
  "interpreter": {
   "hash": "77f800dc47d41417a1961634b7fb9adfe452e5374704596578d1dfa8b0af0022"
  }
 },
 "nbformat": 4,
 "nbformat_minor": 2
}